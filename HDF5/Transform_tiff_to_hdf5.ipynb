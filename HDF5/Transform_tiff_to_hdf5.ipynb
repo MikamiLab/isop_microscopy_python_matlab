{
 "cells": [
  {
   "cell_type": "code",
   "execution_count": 3,
   "metadata": {},
   "outputs": [
    {
     "name": "stderr",
     "output_type": "stream",
     "text": [
      "<tifffile.TiffPage 0 @8> imagej_metadata failed with ValueError: The truth value of an array with more than one element is ambiguous. Use a.any() or a.all()\n"
     ]
    },
    {
     "name": "stdout",
     "output_type": "stream",
     "text": [
      "Loaded shape: (101, 118, 707, 824)\n"
     ]
    }
   ],
   "source": [
    "import h5py\n",
    "import tifffile as tiff\n",
    "import numpy as np\n",
    "\n",
    "def convert_tiff_to_hdf5(tiff_file, hdf5_file):\n",
    "    # TIFFファイルを開く\n",
    "    img_data = tiff.imread(tiff_file)\n",
    "    print(\"Loaded shape:\", img_data.shape)\n",
    "\n",
    "    # HDF5ファイルを作成\n",
    "    with h5py.File(hdf5_file, 'w') as hdf:\n",
    "        hdf.create_dataset('default', data=img_data, compression='gzip')\n",
    "\n",
    "# 正しいパス形式\n",
    "tiff_file = r\"\\\\4-307-km\\p\\Tardigrade\\Tardigrada_mukumoto\\orig\\tiff_output\\raw-ch1-211-311.tif\"\n",
    "hdf5_file = r\"\\\\4-307-km\\p\\Tardigrade\\Tardigrada_mukumoto\\orig\\tiff_output\\raw-ch1-211-311.h5\"\n",
    "\n",
    "convert_tiff_to_hdf5(tiff_file, hdf5_file)\n"
   ]
  }
 ],
 "metadata": {
  "kernelspec": {
   "display_name": "Python (stardist)",
   "language": "python",
   "name": "stardist"
  },
  "language_info": {
   "codemirror_mode": {
    "name": "ipython",
    "version": 3
   },
   "file_extension": ".py",
   "mimetype": "text/x-python",
   "name": "python",
   "nbconvert_exporter": "python",
   "pygments_lexer": "ipython3",
   "version": "3.7.9"
  }
 },
 "nbformat": 4,
 "nbformat_minor": 2
}
