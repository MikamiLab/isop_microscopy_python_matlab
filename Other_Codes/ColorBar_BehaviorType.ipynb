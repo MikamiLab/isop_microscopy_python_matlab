{
 "cells": [
  {
   "cell_type": "code",
   "execution_count": 5,
   "id": "64a7e3b4",
   "metadata": {},
   "outputs": [
    {
     "name": "stderr",
     "output_type": "stream",
     "text": [
      "/var/folders/jp/_t5jnvzs2_1_k9zqwdy099500000gn/T/ipykernel_89653/4065611302.py:75: UserWarning: Tight layout not applied. The bottom and top margins cannot be made large enough to accommodate all Axes decorations.\n",
      "  plt.tight_layout()\n"
     ]
    },
    {
     "data": {
      "image/png": "[encoded data removed]",
      "text/plain": [
       "<Figure size 1000x60 with 1 Axes>"
      ]
     },
     "metadata": {},
     "output_type": "display_data"
    }
   ],
   "source": [
    "import pandas as pd\n",
    "import numpy as np\n",
    "import matplotlib.pyplot as plt\n",
    "from itertools import cycle\n",
    "\n",
    "# === 入力 ===\n",
    "xlsx_path = 'Behavioral_type.xlsx'\n",
    "df = pd.read_excel(xlsx_path)\n",
    "\n",
    "# 必須カラムの確認\n",
    "assert 'Delta' in df.columns and 'BehavType' in df.columns, \"Delta と BehavType 列が必要です。\"\n",
    "\n",
    "# 時間でソート & 必要列だけ\n",
    "df = df[['Delta', 'BehavType']].dropna(subset=['Delta']).sort_values('Delta').reset_index(drop=True)\n",
    "\n",
    "# === 色マップ定義（指定カラー: 16進コードを#付きで） ===\n",
    "fixed_colors = {\n",
    "    1: '#4E9E36',  # 緑\n",
    "    3: '#0471BD',  # 青\n",
    "    2: '#EBB51E',  # オレンジ\n",
    "    4: '#6D2FA0'   # 紫\n",
    "}\n",
    "auto_palette = cycle(plt.cm.tab10.colors)  # 予備\n",
    "color_map = {}\n",
    "for bt in df['BehavType'].dropna().unique():\n",
    "    if bt in fixed_colors:\n",
    "        color_map[bt] = fixed_colors[bt]\n",
    "    else:\n",
    "        color_map[bt] = next(auto_palette)\n",
    "\n",
    "# === 同一 BehavType の連続区間を抽出 ===\n",
    "segments = []\n",
    "curr_bt = None\n",
    "start_t = None\n",
    "prev_t = None\n",
    "\n",
    "for t, bt in df[['Delta', 'BehavType']].to_numpy():\n",
    "    if pd.isna(bt):\n",
    "        if curr_bt is not None:\n",
    "            segments.append((start_t, prev_t, curr_bt))\n",
    "            curr_bt, start_t = None, None\n",
    "    else:\n",
    "        if curr_bt is None:\n",
    "            curr_bt, start_t = bt, t\n",
    "        elif bt != curr_bt:\n",
    "            segments.append((start_t, prev_t, curr_bt))\n",
    "            curr_bt, start_t = bt, t\n",
    "    prev_t = t\n",
    "\n",
    "if curr_bt is not None:\n",
    "    segments.append((start_t, prev_t, curr_bt))\n",
    "\n",
    "# === プロット（カラーバー） ===\n",
    "fig, ax = plt.subplots(figsize=(10, 0.6))\n",
    "\n",
    "for s, e, bt in segments:\n",
    "    if s == e:\n",
    "        continue\n",
    "    ax.hlines(0, s, e, colors=color_map.get(bt, 'gray'), linewidth=6)\n",
    "\n",
    "# 軸設定（25秒刻み）\n",
    "xmin = float(df['Delta'].min())\n",
    "xmax = float(df['Delta'].max())\n",
    "ax.set_xlim(xmin, xmax)\n",
    "\n",
    "tick_start = 25 * np.ceil(xmin / 25.0)\n",
    "ticks = np.arange(tick_start, xmax + 0.1, 25.0)\n",
    "ax.set_xticks(ticks)\n",
    "ax.set_xlabel('Time [s]')\n",
    "\n",
    "ax.get_yaxis().set_visible(False)\n",
    "for spine in ['top', 'left', 'right']:\n",
    "    ax.spines[spine].set_visible(False)\n",
    "\n",
    "plt.tight_layout()\n",
    "plt.savefig('color_bar_from_BehavType_custom.png', dpi=300, bbox_inches='tight')\n",
    "plt.show()\n"
   ]
  },
  {
   "cell_type": "code",
   "execution_count": 7,
   "id": "da870471",
   "metadata": {},
   "outputs": [
    {
     "data": {
      "image/png": "[encoded data removed]",
      "text/plain": [
       "<Figure size 1000x80 with 1 Axes>"
      ]
     },
     "metadata": {},
     "output_type": "display_data"
    }
   ],
   "source": [
    "import pandas as pd\n",
    "import numpy as np\n",
    "import matplotlib.pyplot as plt\n",
    "from matplotlib.patches import Rectangle\n",
    "\n",
    "df = pd.read_excel('Behavioral_type.xlsx')[['Delta','BehavType']].sort_values('Delta').reset_index(drop=True)\n",
    "fixed_colors = {1:'#4E9E36', 2:'#0471BD', 3:'#EBB51E', 4:'#6D2FA0'}\n",
    "\n",
    "t = df['Delta'].to_numpy()\n",
    "dt = np.diff(t)\n",
    "dt_med = np.median(dt) if len(dt)>0 else 0.1\n",
    "edges = np.concatenate(([t[0]-dt_med/2], (t[:-1]+t[1:])/2, [t[-1]+dt_med/2]))\n",
    "\n",
    "segments = []\n",
    "bt_arr = df['BehavType'].to_numpy()\n",
    "start_idx = 0\n",
    "for i in range(1, len(bt_arr)):\n",
    "    if bt_arr[i] != bt_arr[start_idx]:\n",
    "        segments.append((edges[start_idx], edges[i], bt_arr[start_idx]))\n",
    "        start_idx = i\n",
    "segments.append((edges[start_idx], edges[len(bt_arr)], bt_arr[start_idx]))\n",
    "\n",
    "fig, ax = plt.subplots(figsize=(10, 0.8))\n",
    "for s, e, bt in segments:\n",
    "    color = fixed_colors.get(bt, 'gray')\n",
    "    ax.add_patch(Rectangle((s, -0.5), e - s, 1.0, linewidth=0, facecolor=color))\n",
    "\n",
    "# 軸設定（25秒刻み）\n",
    "xmin, xmax = float(t.min()), float(t.max())\n",
    "ax.set_xlim(xmin, xmax)\n",
    "ax.set_ylim(-0.5, 0.5)\n",
    "tick_start = 25 * np.ceil(xmin/25.0)\n",
    "ax.set_xticks(np.arange(tick_start, xmax+0.1, 25.0))\n",
    "ax.set_yticks([])\n",
    "ax.set_xlabel('Time [s]')\n",
    "\n",
    "for sp in ['top','left','right']:\n",
    "    ax.spines[sp].set_visible(False)\n",
    "\n",
    "plt.tight_layout()\n",
    "plt.savefig('color_bar_no_gap_C_rect.png', dpi=300, bbox_inches='tight')\n",
    "plt.show()\n"
   ]
  },
  {
   "cell_type": "code",
   "execution_count": 8,
   "id": "2209e572",
   "metadata": {},
   "outputs": [
    {
     "ename": "AttributeError",
     "evalue": "LineCollection.set() got an unexpected keyword argument 'solid_capstyle'",
     "output_type": "error",
     "traceback": [
      "\u001b[0;31m---------------------------------------------------------------------------\u001b[0m",
      "\u001b[0;31mAttributeError\u001b[0m                            Traceback (most recent call last)",
      "Cell \u001b[0;32mIn[8], line 31\u001b[0m\n\u001b[1;32m     29\u001b[0m \u001b[38;5;28;01mfor\u001b[39;00m s, e, bt \u001b[38;5;129;01min\u001b[39;00m segments:\n\u001b[1;32m     30\u001b[0m     color \u001b[38;5;241m=\u001b[39m fixed_colors\u001b[38;5;241m.\u001b[39mget(bt, \u001b[38;5;124m'\u001b[39m\u001b[38;5;124mgray\u001b[39m\u001b[38;5;124m'\u001b[39m)\n\u001b[0;32m---> 31\u001b[0m     \u001b[43max\u001b[49m\u001b[38;5;241;43m.\u001b[39;49m\u001b[43mhlines\u001b[49m\u001b[43m(\u001b[49m\u001b[38;5;241;43m0\u001b[39;49m\u001b[43m,\u001b[49m\u001b[43m \u001b[49m\u001b[43ms\u001b[49m\u001b[43m,\u001b[49m\u001b[43m \u001b[49m\u001b[43me\u001b[49m\u001b[43m,\u001b[49m\u001b[43m \u001b[49m\u001b[43mcolors\u001b[49m\u001b[38;5;241;43m=\u001b[39;49m\u001b[43mcolor\u001b[49m\u001b[43m,\u001b[49m\u001b[43m \u001b[49m\u001b[43mlinewidth\u001b[49m\u001b[38;5;241;43m=\u001b[39;49m\u001b[38;5;241;43m6\u001b[39;49m\u001b[43m,\u001b[49m\n\u001b[1;32m     32\u001b[0m \u001b[43m              \u001b[49m\u001b[43mantialiased\u001b[49m\u001b[38;5;241;43m=\u001b[39;49m\u001b[38;5;28;43;01mFalse\u001b[39;49;00m\u001b[43m,\u001b[49m\u001b[43m \u001b[49m\u001b[43msolid_capstyle\u001b[49m\u001b[38;5;241;43m=\u001b[39;49m\u001b[38;5;124;43m'\u001b[39;49m\u001b[38;5;124;43mbutt\u001b[39;49m\u001b[38;5;124;43m'\u001b[39;49m\u001b[43m)\u001b[49m  \u001b[38;5;66;03m# ←にじみ＆端丸め対策\u001b[39;00m\n\u001b[1;32m     34\u001b[0m \u001b[38;5;66;03m# 軸設定（25秒刻み）\u001b[39;00m\n\u001b[1;32m     35\u001b[0m xmin, xmax \u001b[38;5;241m=\u001b[39m \u001b[38;5;28mfloat\u001b[39m(t\u001b[38;5;241m.\u001b[39mmin()), \u001b[38;5;28mfloat\u001b[39m(t\u001b[38;5;241m.\u001b[39mmax())\n",
      "File \u001b[0;32m~/anaconda3/lib/python3.10/site-packages/matplotlib/_api/deprecation.py:453\u001b[0m, in \u001b[0;36mmake_keyword_only.<locals>.wrapper\u001b[0;34m(*args, **kwargs)\u001b[0m\n\u001b[1;32m    447\u001b[0m \u001b[38;5;28;01mif\u001b[39;00m \u001b[38;5;28mlen\u001b[39m(args) \u001b[38;5;241m>\u001b[39m name_idx:\n\u001b[1;32m    448\u001b[0m     warn_deprecated(\n\u001b[1;32m    449\u001b[0m         since, message\u001b[38;5;241m=\u001b[39m\u001b[38;5;124m\"\u001b[39m\u001b[38;5;124mPassing the \u001b[39m\u001b[38;5;132;01m%(name)s\u001b[39;00m\u001b[38;5;124m \u001b[39m\u001b[38;5;132;01m%(obj_type)s\u001b[39;00m\u001b[38;5;124m \u001b[39m\u001b[38;5;124m\"\u001b[39m\n\u001b[1;32m    450\u001b[0m         \u001b[38;5;124m\"\u001b[39m\u001b[38;5;124mpositionally is deprecated since Matplotlib \u001b[39m\u001b[38;5;132;01m%(since)s\u001b[39;00m\u001b[38;5;124m; the \u001b[39m\u001b[38;5;124m\"\u001b[39m\n\u001b[1;32m    451\u001b[0m         \u001b[38;5;124m\"\u001b[39m\u001b[38;5;124mparameter will become keyword-only in \u001b[39m\u001b[38;5;132;01m%(removal)s\u001b[39;00m\u001b[38;5;124m.\u001b[39m\u001b[38;5;124m\"\u001b[39m,\n\u001b[1;32m    452\u001b[0m         name\u001b[38;5;241m=\u001b[39mname, obj_type\u001b[38;5;241m=\u001b[39m\u001b[38;5;124mf\u001b[39m\u001b[38;5;124m\"\u001b[39m\u001b[38;5;124mparameter of \u001b[39m\u001b[38;5;132;01m{\u001b[39;00mfunc\u001b[38;5;241m.\u001b[39m\u001b[38;5;18m__name__\u001b[39m\u001b[38;5;132;01m}\u001b[39;00m\u001b[38;5;124m()\u001b[39m\u001b[38;5;124m\"\u001b[39m)\n\u001b[0;32m--> 453\u001b[0m \u001b[38;5;28;01mreturn\u001b[39;00m \u001b[43mfunc\u001b[49m\u001b[43m(\u001b[49m\u001b[38;5;241;43m*\u001b[39;49m\u001b[43margs\u001b[49m\u001b[43m,\u001b[49m\u001b[43m \u001b[49m\u001b[38;5;241;43m*\u001b[39;49m\u001b[38;5;241;43m*\u001b[39;49m\u001b[43mkwargs\u001b[49m\u001b[43m)\u001b[49m\n",
      "File \u001b[0;32m~/anaconda3/lib/python3.10/site-packages/matplotlib/__init__.py:1521\u001b[0m, in \u001b[0;36m_preprocess_data.<locals>.inner\u001b[0;34m(ax, data, *args, **kwargs)\u001b[0m\n\u001b[1;32m   1518\u001b[0m \u001b[38;5;129m@functools\u001b[39m\u001b[38;5;241m.\u001b[39mwraps(func)\n\u001b[1;32m   1519\u001b[0m \u001b[38;5;28;01mdef\u001b[39;00m \u001b[38;5;21minner\u001b[39m(ax, \u001b[38;5;241m*\u001b[39margs, data\u001b[38;5;241m=\u001b[39m\u001b[38;5;28;01mNone\u001b[39;00m, \u001b[38;5;241m*\u001b[39m\u001b[38;5;241m*\u001b[39mkwargs):\n\u001b[1;32m   1520\u001b[0m     \u001b[38;5;28;01mif\u001b[39;00m data \u001b[38;5;129;01mis\u001b[39;00m \u001b[38;5;28;01mNone\u001b[39;00m:\n\u001b[0;32m-> 1521\u001b[0m         \u001b[38;5;28;01mreturn\u001b[39;00m \u001b[43mfunc\u001b[49m\u001b[43m(\u001b[49m\n\u001b[1;32m   1522\u001b[0m \u001b[43m            \u001b[49m\u001b[43max\u001b[49m\u001b[43m,\u001b[49m\n\u001b[1;32m   1523\u001b[0m \u001b[43m            \u001b[49m\u001b[38;5;241;43m*\u001b[39;49m\u001b[38;5;28;43mmap\u001b[39;49m\u001b[43m(\u001b[49m\u001b[43mcbook\u001b[49m\u001b[38;5;241;43m.\u001b[39;49m\u001b[43msanitize_sequence\u001b[49m\u001b[43m,\u001b[49m\u001b[43m \u001b[49m\u001b[43margs\u001b[49m\u001b[43m)\u001b[49m\u001b[43m,\u001b[49m\n\u001b[1;32m   1524\u001b[0m \u001b[43m            \u001b[49m\u001b[38;5;241;43m*\u001b[39;49m\u001b[38;5;241;43m*\u001b[39;49m\u001b[43m{\u001b[49m\u001b[43mk\u001b[49m\u001b[43m:\u001b[49m\u001b[43m \u001b[49m\u001b[43mcbook\u001b[49m\u001b[38;5;241;43m.\u001b[39;49m\u001b[43msanitize_sequence\u001b[49m\u001b[43m(\u001b[49m\u001b[43mv\u001b[49m\u001b[43m)\u001b[49m\u001b[43m \u001b[49m\u001b[38;5;28;43;01mfor\u001b[39;49;00m\u001b[43m \u001b[49m\u001b[43mk\u001b[49m\u001b[43m,\u001b[49m\u001b[43m \u001b[49m\u001b[43mv\u001b[49m\u001b[43m \u001b[49m\u001b[38;5;129;43;01min\u001b[39;49;00m\u001b[43m \u001b[49m\u001b[43mkwargs\u001b[49m\u001b[38;5;241;43m.\u001b[39;49m\u001b[43mitems\u001b[49m\u001b[43m(\u001b[49m\u001b[43m)\u001b[49m\u001b[43m}\u001b[49m\u001b[43m)\u001b[49m\n\u001b[1;32m   1526\u001b[0m     bound \u001b[38;5;241m=\u001b[39m new_sig\u001b[38;5;241m.\u001b[39mbind(ax, \u001b[38;5;241m*\u001b[39margs, \u001b[38;5;241m*\u001b[39m\u001b[38;5;241m*\u001b[39mkwargs)\n\u001b[1;32m   1527\u001b[0m     auto_label \u001b[38;5;241m=\u001b[39m (bound\u001b[38;5;241m.\u001b[39marguments\u001b[38;5;241m.\u001b[39mget(label_namer)\n\u001b[1;32m   1528\u001b[0m                   \u001b[38;5;129;01mor\u001b[39;00m bound\u001b[38;5;241m.\u001b[39mkwargs\u001b[38;5;241m.\u001b[39mget(label_namer))\n",
      "File \u001b[0;32m~/anaconda3/lib/python3.10/site-packages/matplotlib/axes/_axes.py:1163\u001b[0m, in \u001b[0;36mAxes.hlines\u001b[0;34m(self, y, xmin, xmax, colors, linestyles, label, **kwargs)\u001b[0m\n\u001b[1;32m   1160\u001b[0m lines \u001b[38;5;241m=\u001b[39m mcoll\u001b[38;5;241m.\u001b[39mLineCollection(masked_verts, colors\u001b[38;5;241m=\u001b[39mcolors,\n\u001b[1;32m   1161\u001b[0m                              linestyles\u001b[38;5;241m=\u001b[39mlinestyles, label\u001b[38;5;241m=\u001b[39mlabel)\n\u001b[1;32m   1162\u001b[0m \u001b[38;5;28mself\u001b[39m\u001b[38;5;241m.\u001b[39madd_collection(lines, autolim\u001b[38;5;241m=\u001b[39m\u001b[38;5;28;01mFalse\u001b[39;00m)\n\u001b[0;32m-> 1163\u001b[0m \u001b[43mlines\u001b[49m\u001b[38;5;241;43m.\u001b[39;49m\u001b[43m_internal_update\u001b[49m\u001b[43m(\u001b[49m\u001b[43mkwargs\u001b[49m\u001b[43m)\u001b[49m\n\u001b[1;32m   1165\u001b[0m \u001b[38;5;28;01mif\u001b[39;00m \u001b[38;5;28mlen\u001b[39m(y) \u001b[38;5;241m>\u001b[39m \u001b[38;5;241m0\u001b[39m:\n\u001b[1;32m   1166\u001b[0m     \u001b[38;5;66;03m# Extreme values of xmin/xmax/y.  Using masked_verts here handles\u001b[39;00m\n\u001b[1;32m   1167\u001b[0m     \u001b[38;5;66;03m# the case of y being a masked *object* array (as can be generated\u001b[39;00m\n\u001b[1;32m   1168\u001b[0m     \u001b[38;5;66;03m# e.g. by errorbar()), which would make nanmin/nanmax stumble.\u001b[39;00m\n\u001b[1;32m   1169\u001b[0m     updatex \u001b[38;5;241m=\u001b[39m \u001b[38;5;28;01mTrue\u001b[39;00m\n",
      "File \u001b[0;32m~/anaconda3/lib/python3.10/site-packages/matplotlib/artist.py:1233\u001b[0m, in \u001b[0;36mArtist._internal_update\u001b[0;34m(self, kwargs)\u001b[0m\n\u001b[1;32m   1226\u001b[0m \u001b[38;5;28;01mdef\u001b[39;00m \u001b[38;5;21m_internal_update\u001b[39m(\u001b[38;5;28mself\u001b[39m, kwargs):\n\u001b[1;32m   1227\u001b[0m \u001b[38;5;250m    \u001b[39m\u001b[38;5;124;03m\"\"\"\u001b[39;00m\n\u001b[1;32m   1228\u001b[0m \u001b[38;5;124;03m    Update artist properties without prenormalizing them, but generating\u001b[39;00m\n\u001b[1;32m   1229\u001b[0m \u001b[38;5;124;03m    errors as if calling `set`.\u001b[39;00m\n\u001b[1;32m   1230\u001b[0m \n\u001b[1;32m   1231\u001b[0m \u001b[38;5;124;03m    The lack of prenormalization is to maintain backcompatibility.\u001b[39;00m\n\u001b[1;32m   1232\u001b[0m \u001b[38;5;124;03m    \"\"\"\u001b[39;00m\n\u001b[0;32m-> 1233\u001b[0m     \u001b[38;5;28;01mreturn\u001b[39;00m \u001b[38;5;28;43mself\u001b[39;49m\u001b[38;5;241;43m.\u001b[39;49m\u001b[43m_update_props\u001b[49m\u001b[43m(\u001b[49m\n\u001b[1;32m   1234\u001b[0m \u001b[43m        \u001b[49m\u001b[43mkwargs\u001b[49m\u001b[43m,\u001b[49m\u001b[43m \u001b[49m\u001b[38;5;124;43m\"\u001b[39;49m\u001b[38;5;132;43;01m{cls.__name__}\u001b[39;49;00m\u001b[38;5;124;43m.set() got an unexpected keyword argument \u001b[39;49m\u001b[38;5;124;43m\"\u001b[39;49m\n\u001b[1;32m   1235\u001b[0m \u001b[43m        \u001b[49m\u001b[38;5;124;43m\"\u001b[39;49m\u001b[38;5;132;43;01m{prop_name!r}\u001b[39;49;00m\u001b[38;5;124;43m\"\u001b[39;49m\u001b[43m)\u001b[49m\n",
      "File \u001b[0;32m~/anaconda3/lib/python3.10/site-packages/matplotlib/artist.py:1206\u001b[0m, in \u001b[0;36mArtist._update_props\u001b[0;34m(self, props, errfmt)\u001b[0m\n\u001b[1;32m   1204\u001b[0m             func \u001b[38;5;241m=\u001b[39m \u001b[38;5;28mgetattr\u001b[39m(\u001b[38;5;28mself\u001b[39m, \u001b[38;5;124mf\u001b[39m\u001b[38;5;124m\"\u001b[39m\u001b[38;5;124mset_\u001b[39m\u001b[38;5;132;01m{\u001b[39;00mk\u001b[38;5;132;01m}\u001b[39;00m\u001b[38;5;124m\"\u001b[39m, \u001b[38;5;28;01mNone\u001b[39;00m)\n\u001b[1;32m   1205\u001b[0m             \u001b[38;5;28;01mif\u001b[39;00m \u001b[38;5;129;01mnot\u001b[39;00m \u001b[38;5;28mcallable\u001b[39m(func):\n\u001b[0;32m-> 1206\u001b[0m                 \u001b[38;5;28;01mraise\u001b[39;00m \u001b[38;5;167;01mAttributeError\u001b[39;00m(\n\u001b[1;32m   1207\u001b[0m                     errfmt\u001b[38;5;241m.\u001b[39mformat(\u001b[38;5;28mcls\u001b[39m\u001b[38;5;241m=\u001b[39m\u001b[38;5;28mtype\u001b[39m(\u001b[38;5;28mself\u001b[39m), prop_name\u001b[38;5;241m=\u001b[39mk),\n\u001b[1;32m   1208\u001b[0m                     name\u001b[38;5;241m=\u001b[39mk)\n\u001b[1;32m   1209\u001b[0m             ret\u001b[38;5;241m.\u001b[39mappend(func(v))\n\u001b[1;32m   1210\u001b[0m \u001b[38;5;28;01mif\u001b[39;00m ret:\n",
      "\u001b[0;31mAttributeError\u001b[0m: LineCollection.set() got an unexpected keyword argument 'solid_capstyle'"
     ]
    },
    {
     "data": {
      "image/png": "[encoded data removed]",
      "text/plain": [
       "<Figure size 1000x60 with 1 Axes>"
      ]
     },
     "metadata": {},
     "output_type": "display_data"
    }
   ],
   "source": [
    "import pandas as pd\n",
    "import numpy as np\n",
    "import matplotlib.pyplot as plt\n",
    "\n",
    "# === 入力 ===\n",
    "df = pd.read_excel('Behavioral_type.xlsx')[['Delta','BehavType']].sort_values('Delta').reset_index(drop=True)\n",
    "\n",
    "# === 色定義 ===\n",
    "fixed_colors = {1:'#4E9E36', 2:'#0471BD', 3:'#EBB51E', 4:'#6D2FA0'}\n",
    "\n",
    "# === 区間エッジ（ビン境界）を作る：隣接時刻の中点を境界にする ===\n",
    "t = df['Delta'].to_numpy()\n",
    "dt = np.diff(t)\n",
    "dt_med = np.median(dt) if len(dt)>0 else 0.1\n",
    "edges = np.concatenate(([t[0]-dt_med/2], (t[:-1]+t[1:])/2, [t[-1]+dt_med/2]))\n",
    "\n",
    "# === 同一BehavTypeの連続区間を抽出（エッジ基準で閉区間化）===\n",
    "segments = []\n",
    "bt_arr = df['BehavType'].to_numpy()\n",
    "start_idx = 0\n",
    "for i in range(1, len(bt_arr)):\n",
    "    if bt_arr[i] != bt_arr[start_idx]:\n",
    "        segments.append((edges[start_idx], edges[i], bt_arr[start_idx]))\n",
    "        start_idx = i\n",
    "segments.append((edges[start_idx], edges[len(bt_arr)], bt_arr[start_idx]))\n",
    "\n",
    "# === 描画 ===\n",
    "fig, ax = plt.subplots(figsize=(10, 0.6))\n",
    "for s, e, bt in segments:\n",
    "    color = fixed_colors.get(bt, 'gray')\n",
    "    ax.hlines(0, s, e, colors=color, linewidth=6,\n",
    "              antialiased=False, solid_capstyle='butt')  # ←にじみ＆端丸め対策\n",
    "\n",
    "# 軸設定（25秒刻み）\n",
    "xmin, xmax = float(t.min()), float(t.max())\n",
    "ax.set_xlim(xmin, xmax)\n",
    "tick_start = 25 * np.ceil(xmin/25.0)\n",
    "ax.set_xticks(np.arange(tick_start, xmax+0.1, 25.0))\n",
    "ax.set_xlabel('Time [s]')\n",
    "\n",
    "ax.get_yaxis().set_visible(False)\n",
    "for sp in ['top','left','right']:\n",
    "    ax.spines[sp].set_visible(False)\n",
    "\n",
    "plt.tight_layout()\n",
    "plt.savefig('color_bar_no_gap_A_hlines.png', dpi=300, bbox_inches='tight')\n",
    "plt.show()\n"
   ]
  },
  {
   "cell_type": "code",
   "execution_count": 9,
   "id": "9f56318a",
   "metadata": {},
   "outputs": [
    {
     "ename": "AttributeError",
     "evalue": "LineCollection.set() got an unexpected keyword argument 'solid_capstyle'",
     "output_type": "error",
     "traceback": [
      "\u001b[0;31m---------------------------------------------------------------------------\u001b[0m",
      "\u001b[0;31mAttributeError\u001b[0m                            Traceback (most recent call last)",
      "Cell \u001b[0;32mIn[9], line 27\u001b[0m\n\u001b[1;32m     25\u001b[0m \u001b[38;5;28;01mfor\u001b[39;00m s, e, bt \u001b[38;5;129;01min\u001b[39;00m segments:\n\u001b[1;32m     26\u001b[0m     color \u001b[38;5;241m=\u001b[39m fixed_colors\u001b[38;5;241m.\u001b[39mget(bt, \u001b[38;5;124m'\u001b[39m\u001b[38;5;124mgray\u001b[39m\u001b[38;5;124m'\u001b[39m)\n\u001b[0;32m---> 27\u001b[0m     \u001b[43max\u001b[49m\u001b[38;5;241;43m.\u001b[39;49m\u001b[43mhlines\u001b[49m\u001b[43m(\u001b[49m\u001b[38;5;241;43m0\u001b[39;49m\u001b[43m,\u001b[49m\u001b[43m \u001b[49m\u001b[43ms\u001b[49m\u001b[43m \u001b[49m\u001b[38;5;241;43m-\u001b[39;49m\u001b[43m \u001b[49m\u001b[43mepsilon\u001b[49m\u001b[43m,\u001b[49m\u001b[43m \u001b[49m\u001b[43me\u001b[49m\u001b[43m \u001b[49m\u001b[38;5;241;43m+\u001b[39;49m\u001b[43m \u001b[49m\u001b[43mepsilon\u001b[49m\u001b[43m,\u001b[49m\u001b[43m \u001b[49m\u001b[43mcolors\u001b[49m\u001b[38;5;241;43m=\u001b[39;49m\u001b[43mcolor\u001b[49m\u001b[43m,\u001b[49m\u001b[43m \u001b[49m\u001b[43mlinewidth\u001b[49m\u001b[38;5;241;43m=\u001b[39;49m\u001b[38;5;241;43m6\u001b[39;49m\u001b[43m,\u001b[49m\n\u001b[1;32m     28\u001b[0m \u001b[43m              \u001b[49m\u001b[43mantialiased\u001b[49m\u001b[38;5;241;43m=\u001b[39;49m\u001b[38;5;28;43;01mFalse\u001b[39;49;00m\u001b[43m,\u001b[49m\u001b[43m \u001b[49m\u001b[43msolid_capstyle\u001b[49m\u001b[38;5;241;43m=\u001b[39;49m\u001b[38;5;124;43m'\u001b[39;49m\u001b[38;5;124;43mbutt\u001b[39;49m\u001b[38;5;124;43m'\u001b[39;49m\u001b[43m)\u001b[49m\n\u001b[1;32m     30\u001b[0m xmin, xmax \u001b[38;5;241m=\u001b[39m \u001b[38;5;28mfloat\u001b[39m(t\u001b[38;5;241m.\u001b[39mmin()), \u001b[38;5;28mfloat\u001b[39m(t\u001b[38;5;241m.\u001b[39mmax())\n\u001b[1;32m     31\u001b[0m ax\u001b[38;5;241m.\u001b[39mset_xlim(xmin, xmax)\n",
      "File \u001b[0;32m~/anaconda3/lib/python3.10/site-packages/matplotlib/_api/deprecation.py:453\u001b[0m, in \u001b[0;36mmake_keyword_only.<locals>.wrapper\u001b[0;34m(*args, **kwargs)\u001b[0m\n\u001b[1;32m    447\u001b[0m \u001b[38;5;28;01mif\u001b[39;00m \u001b[38;5;28mlen\u001b[39m(args) \u001b[38;5;241m>\u001b[39m name_idx:\n\u001b[1;32m    448\u001b[0m     warn_deprecated(\n\u001b[1;32m    449\u001b[0m         since, message\u001b[38;5;241m=\u001b[39m\u001b[38;5;124m\"\u001b[39m\u001b[38;5;124mPassing the \u001b[39m\u001b[38;5;132;01m%(name)s\u001b[39;00m\u001b[38;5;124m \u001b[39m\u001b[38;5;132;01m%(obj_type)s\u001b[39;00m\u001b[38;5;124m \u001b[39m\u001b[38;5;124m\"\u001b[39m\n\u001b[1;32m    450\u001b[0m         \u001b[38;5;124m\"\u001b[39m\u001b[38;5;124mpositionally is deprecated since Matplotlib \u001b[39m\u001b[38;5;132;01m%(since)s\u001b[39;00m\u001b[38;5;124m; the \u001b[39m\u001b[38;5;124m\"\u001b[39m\n\u001b[1;32m    451\u001b[0m         \u001b[38;5;124m\"\u001b[39m\u001b[38;5;124mparameter will become keyword-only in \u001b[39m\u001b[38;5;132;01m%(removal)s\u001b[39;00m\u001b[38;5;124m.\u001b[39m\u001b[38;5;124m\"\u001b[39m,\n\u001b[1;32m    452\u001b[0m         name\u001b[38;5;241m=\u001b[39mname, obj_type\u001b[38;5;241m=\u001b[39m\u001b[38;5;124mf\u001b[39m\u001b[38;5;124m\"\u001b[39m\u001b[38;5;124mparameter of \u001b[39m\u001b[38;5;132;01m{\u001b[39;00mfunc\u001b[38;5;241m.\u001b[39m\u001b[38;5;18m__name__\u001b[39m\u001b[38;5;132;01m}\u001b[39;00m\u001b[38;5;124m()\u001b[39m\u001b[38;5;124m\"\u001b[39m)\n\u001b[0;32m--> 453\u001b[0m \u001b[38;5;28;01mreturn\u001b[39;00m \u001b[43mfunc\u001b[49m\u001b[43m(\u001b[49m\u001b[38;5;241;43m*\u001b[39;49m\u001b[43margs\u001b[49m\u001b[43m,\u001b[49m\u001b[43m \u001b[49m\u001b[38;5;241;43m*\u001b[39;49m\u001b[38;5;241;43m*\u001b[39;49m\u001b[43mkwargs\u001b[49m\u001b[43m)\u001b[49m\n",
      "File \u001b[0;32m~/anaconda3/lib/python3.10/site-packages/matplotlib/__init__.py:1521\u001b[0m, in \u001b[0;36m_preprocess_data.<locals>.inner\u001b[0;34m(ax, data, *args, **kwargs)\u001b[0m\n\u001b[1;32m   1518\u001b[0m \u001b[38;5;129m@functools\u001b[39m\u001b[38;5;241m.\u001b[39mwraps(func)\n\u001b[1;32m   1519\u001b[0m \u001b[38;5;28;01mdef\u001b[39;00m \u001b[38;5;21minner\u001b[39m(ax, \u001b[38;5;241m*\u001b[39margs, data\u001b[38;5;241m=\u001b[39m\u001b[38;5;28;01mNone\u001b[39;00m, \u001b[38;5;241m*\u001b[39m\u001b[38;5;241m*\u001b[39mkwargs):\n\u001b[1;32m   1520\u001b[0m     \u001b[38;5;28;01mif\u001b[39;00m data \u001b[38;5;129;01mis\u001b[39;00m \u001b[38;5;28;01mNone\u001b[39;00m:\n\u001b[0;32m-> 1521\u001b[0m         \u001b[38;5;28;01mreturn\u001b[39;00m \u001b[43mfunc\u001b[49m\u001b[43m(\u001b[49m\n\u001b[1;32m   1522\u001b[0m \u001b[43m            \u001b[49m\u001b[43max\u001b[49m\u001b[43m,\u001b[49m\n\u001b[1;32m   1523\u001b[0m \u001b[43m            \u001b[49m\u001b[38;5;241;43m*\u001b[39;49m\u001b[38;5;28;43mmap\u001b[39;49m\u001b[43m(\u001b[49m\u001b[43mcbook\u001b[49m\u001b[38;5;241;43m.\u001b[39;49m\u001b[43msanitize_sequence\u001b[49m\u001b[43m,\u001b[49m\u001b[43m \u001b[49m\u001b[43margs\u001b[49m\u001b[43m)\u001b[49m\u001b[43m,\u001b[49m\n\u001b[1;32m   1524\u001b[0m \u001b[43m            \u001b[49m\u001b[38;5;241;43m*\u001b[39;49m\u001b[38;5;241;43m*\u001b[39;49m\u001b[43m{\u001b[49m\u001b[43mk\u001b[49m\u001b[43m:\u001b[49m\u001b[43m \u001b[49m\u001b[43mcbook\u001b[49m\u001b[38;5;241;43m.\u001b[39;49m\u001b[43msanitize_sequence\u001b[49m\u001b[43m(\u001b[49m\u001b[43mv\u001b[49m\u001b[43m)\u001b[49m\u001b[43m \u001b[49m\u001b[38;5;28;43;01mfor\u001b[39;49;00m\u001b[43m \u001b[49m\u001b[43mk\u001b[49m\u001b[43m,\u001b[49m\u001b[43m \u001b[49m\u001b[43mv\u001b[49m\u001b[43m \u001b[49m\u001b[38;5;129;43;01min\u001b[39;49;00m\u001b[43m \u001b[49m\u001b[43mkwargs\u001b[49m\u001b[38;5;241;43m.\u001b[39;49m\u001b[43mitems\u001b[49m\u001b[43m(\u001b[49m\u001b[43m)\u001b[49m\u001b[43m}\u001b[49m\u001b[43m)\u001b[49m\n\u001b[1;32m   1526\u001b[0m     bound \u001b[38;5;241m=\u001b[39m new_sig\u001b[38;5;241m.\u001b[39mbind(ax, \u001b[38;5;241m*\u001b[39margs, \u001b[38;5;241m*\u001b[39m\u001b[38;5;241m*\u001b[39mkwargs)\n\u001b[1;32m   1527\u001b[0m     auto_label \u001b[38;5;241m=\u001b[39m (bound\u001b[38;5;241m.\u001b[39marguments\u001b[38;5;241m.\u001b[39mget(label_namer)\n\u001b[1;32m   1528\u001b[0m                   \u001b[38;5;129;01mor\u001b[39;00m bound\u001b[38;5;241m.\u001b[39mkwargs\u001b[38;5;241m.\u001b[39mget(label_namer))\n",
      "File \u001b[0;32m~/anaconda3/lib/python3.10/site-packages/matplotlib/axes/_axes.py:1163\u001b[0m, in \u001b[0;36mAxes.hlines\u001b[0;34m(self, y, xmin, xmax, colors, linestyles, label, **kwargs)\u001b[0m\n\u001b[1;32m   1160\u001b[0m lines \u001b[38;5;241m=\u001b[39m mcoll\u001b[38;5;241m.\u001b[39mLineCollection(masked_verts, colors\u001b[38;5;241m=\u001b[39mcolors,\n\u001b[1;32m   1161\u001b[0m                              linestyles\u001b[38;5;241m=\u001b[39mlinestyles, label\u001b[38;5;241m=\u001b[39mlabel)\n\u001b[1;32m   1162\u001b[0m \u001b[38;5;28mself\u001b[39m\u001b[38;5;241m.\u001b[39madd_collection(lines, autolim\u001b[38;5;241m=\u001b[39m\u001b[38;5;28;01mFalse\u001b[39;00m)\n\u001b[0;32m-> 1163\u001b[0m \u001b[43mlines\u001b[49m\u001b[38;5;241;43m.\u001b[39;49m\u001b[43m_internal_update\u001b[49m\u001b[43m(\u001b[49m\u001b[43mkwargs\u001b[49m\u001b[43m)\u001b[49m\n\u001b[1;32m   1165\u001b[0m \u001b[38;5;28;01mif\u001b[39;00m \u001b[38;5;28mlen\u001b[39m(y) \u001b[38;5;241m>\u001b[39m \u001b[38;5;241m0\u001b[39m:\n\u001b[1;32m   1166\u001b[0m     \u001b[38;5;66;03m# Extreme values of xmin/xmax/y.  Using masked_verts here handles\u001b[39;00m\n\u001b[1;32m   1167\u001b[0m     \u001b[38;5;66;03m# the case of y being a masked *object* array (as can be generated\u001b[39;00m\n\u001b[1;32m   1168\u001b[0m     \u001b[38;5;66;03m# e.g. by errorbar()), which would make nanmin/nanmax stumble.\u001b[39;00m\n\u001b[1;32m   1169\u001b[0m     updatex \u001b[38;5;241m=\u001b[39m \u001b[38;5;28;01mTrue\u001b[39;00m\n",
      "File \u001b[0;32m~/anaconda3/lib/python3.10/site-packages/matplotlib/artist.py:1233\u001b[0m, in \u001b[0;36mArtist._internal_update\u001b[0;34m(self, kwargs)\u001b[0m\n\u001b[1;32m   1226\u001b[0m \u001b[38;5;28;01mdef\u001b[39;00m \u001b[38;5;21m_internal_update\u001b[39m(\u001b[38;5;28mself\u001b[39m, kwargs):\n\u001b[1;32m   1227\u001b[0m \u001b[38;5;250m    \u001b[39m\u001b[38;5;124;03m\"\"\"\u001b[39;00m\n\u001b[1;32m   1228\u001b[0m \u001b[38;5;124;03m    Update artist properties without prenormalizing them, but generating\u001b[39;00m\n\u001b[1;32m   1229\u001b[0m \u001b[38;5;124;03m    errors as if calling `set`.\u001b[39;00m\n\u001b[1;32m   1230\u001b[0m \n\u001b[1;32m   1231\u001b[0m \u001b[38;5;124;03m    The lack of prenormalization is to maintain backcompatibility.\u001b[39;00m\n\u001b[1;32m   1232\u001b[0m \u001b[38;5;124;03m    \"\"\"\u001b[39;00m\n\u001b[0;32m-> 1233\u001b[0m     \u001b[38;5;28;01mreturn\u001b[39;00m \u001b[38;5;28;43mself\u001b[39;49m\u001b[38;5;241;43m.\u001b[39;49m\u001b[43m_update_props\u001b[49m\u001b[43m(\u001b[49m\n\u001b[1;32m   1234\u001b[0m \u001b[43m        \u001b[49m\u001b[43mkwargs\u001b[49m\u001b[43m,\u001b[49m\u001b[43m \u001b[49m\u001b[38;5;124;43m\"\u001b[39;49m\u001b[38;5;132;43;01m{cls.__name__}\u001b[39;49;00m\u001b[38;5;124;43m.set() got an unexpected keyword argument \u001b[39;49m\u001b[38;5;124;43m\"\u001b[39;49m\n\u001b[1;32m   1235\u001b[0m \u001b[43m        \u001b[49m\u001b[38;5;124;43m\"\u001b[39;49m\u001b[38;5;132;43;01m{prop_name!r}\u001b[39;49;00m\u001b[38;5;124;43m\"\u001b[39;49m\u001b[43m)\u001b[49m\n",
      "File \u001b[0;32m~/anaconda3/lib/python3.10/site-packages/matplotlib/artist.py:1206\u001b[0m, in \u001b[0;36mArtist._update_props\u001b[0;34m(self, props, errfmt)\u001b[0m\n\u001b[1;32m   1204\u001b[0m             func \u001b[38;5;241m=\u001b[39m \u001b[38;5;28mgetattr\u001b[39m(\u001b[38;5;28mself\u001b[39m, \u001b[38;5;124mf\u001b[39m\u001b[38;5;124m\"\u001b[39m\u001b[38;5;124mset_\u001b[39m\u001b[38;5;132;01m{\u001b[39;00mk\u001b[38;5;132;01m}\u001b[39;00m\u001b[38;5;124m\"\u001b[39m, \u001b[38;5;28;01mNone\u001b[39;00m)\n\u001b[1;32m   1205\u001b[0m             \u001b[38;5;28;01mif\u001b[39;00m \u001b[38;5;129;01mnot\u001b[39;00m \u001b[38;5;28mcallable\u001b[39m(func):\n\u001b[0;32m-> 1206\u001b[0m                 \u001b[38;5;28;01mraise\u001b[39;00m \u001b[38;5;167;01mAttributeError\u001b[39;00m(\n\u001b[1;32m   1207\u001b[0m                     errfmt\u001b[38;5;241m.\u001b[39mformat(\u001b[38;5;28mcls\u001b[39m\u001b[38;5;241m=\u001b[39m\u001b[38;5;28mtype\u001b[39m(\u001b[38;5;28mself\u001b[39m), prop_name\u001b[38;5;241m=\u001b[39mk),\n\u001b[1;32m   1208\u001b[0m                     name\u001b[38;5;241m=\u001b[39mk)\n\u001b[1;32m   1209\u001b[0m             ret\u001b[38;5;241m.\u001b[39mappend(func(v))\n\u001b[1;32m   1210\u001b[0m \u001b[38;5;28;01mif\u001b[39;00m ret:\n",
      "\u001b[0;31mAttributeError\u001b[0m: LineCollection.set() got an unexpected keyword argument 'solid_capstyle'"
     ]
    },
    {
     "data": {
      "image/png": "[encoded data removed]",
      "text/plain": [
       "<Figure size 1000x60 with 1 Axes>"
      ]
     },
     "metadata": {},
     "output_type": "display_data"
    }
   ],
   "source": [
    "import pandas as pd\n",
    "import numpy as np\n",
    "import matplotlib.pyplot as plt\n",
    "\n",
    "df = pd.read_excel('Behavioral_type.xlsx')[['Delta','BehavType']].sort_values('Delta').reset_index(drop=True)\n",
    "fixed_colors = {1:'#4E9E36', 2:'#0471BD', 3:'#EBB51E', 4:'#6D2FA0'}\n",
    "\n",
    "t = df['Delta'].to_numpy()\n",
    "dt = np.diff(t)\n",
    "dt_med = np.median(dt) if len(dt)>0 else 0.1\n",
    "edges = np.concatenate(([t[0]-dt_med/2], (t[:-1]+t[1:])/2, [t[-1]+dt_med/2]))\n",
    "\n",
    "segments = []\n",
    "bt_arr = df['BehavType'].to_numpy()\n",
    "start_idx = 0\n",
    "for i in range(1, len(bt_arr)):\n",
    "    if bt_arr[i] != bt_arr[start_idx]:\n",
    "        segments.append((edges[start_idx], edges[i], bt_arr[start_idx]))\n",
    "        start_idx = i\n",
    "segments.append((edges[start_idx], edges[len(bt_arr)], bt_arr[start_idx]))\n",
    "\n",
    "epsilon = dt_med / 10.0  # ごく小さく重ねる\n",
    "\n",
    "fig, ax = plt.subplots(figsize=(10, 0.6))\n",
    "for s, e, bt in segments:\n",
    "    color = fixed_colors.get(bt, 'gray')\n",
    "    ax.hlines(0, s - epsilon, e + epsilon, colors=color, linewidth=6,\n",
    "              antialiased=False, solid_capstyle='butt')\n",
    "\n",
    "xmin, xmax = float(t.min()), float(t.max())\n",
    "ax.set_xlim(xmin, xmax)\n",
    "tick_start = 25 * np.ceil(xmin/25.0)\n",
    "ax.set_xticks(np.arange(tick_start, xmax+0.1, 25.0))\n",
    "ax.set_xlabel('Time [s]')\n",
    "\n",
    "ax.get_yaxis().set_visible(False)\n",
    "for sp in ['top','left','right']:\n",
    "    ax.spines[sp].set_visible(False)\n",
    "\n",
    "plt.tight_layout()\n",
    "plt.savefig('color_bar_no_gap_B_overlap.png', dpi=300, bbox_inches='tight')\n",
    "plt.show()\n"
   ]
  },
  {
   "cell_type": "code",
   "execution_count": 12,
   "id": "e2f214be",
   "metadata": {},
   "outputs": [
    {
     "name": "stderr",
     "output_type": "stream",
     "text": [
      "/var/folders/jp/_t5jnvzs2_1_k9zqwdy099500000gn/T/ipykernel_89653/141433908.py:41: UserWarning: Tight layout not applied. The bottom and top margins cannot be made large enough to accommodate all Axes decorations.\n",
      "  plt.tight_layout()\n"
     ]
    },
    {
     "data": {
      "image/png": "[encoded data removed]",
      "text/plain": [
       "<Figure size 1000x60 with 1 Axes>"
      ]
     },
     "metadata": {},
     "output_type": "display_data"
    }
   ],
   "source": [
    "import pandas as pd\n",
    "import numpy as np\n",
    "import matplotlib.pyplot as plt\n",
    "\n",
    "df = pd.read_excel('Behavioral_type.xlsx')[['Delta','BehavType']].sort_values('Delta').reset_index(drop=True)\n",
    "fixed_colors = {1:'#4E9E36', 2:'#0471BD', 3:'#EBB51E', 4:'#6D2FA0'}\n",
    "\n",
    "t_raw = df['Delta'].to_numpy()\n",
    "dt = np.diff(t_raw)\n",
    "dt_med = np.median(dt) if len(dt)>0 else 0.1\n",
    "grid = dt_med / 10.0  # 細かいが有限なグリッドへ丸め\n",
    "\n",
    "t = np.round(t_raw / grid) * grid\n",
    "order = np.argsort(t)\n",
    "t = t[order]\n",
    "bt = df['BehavType'].to_numpy()[order]\n",
    "\n",
    "segments = []\n",
    "sidx = 0\n",
    "for i in range(1, len(bt)):\n",
    "    if bt[i] != bt[sidx]:\n",
    "        segments.append((t[sidx], t[i], bt[sidx]))\n",
    "        sidx = i\n",
    "segments.append((t[sidx], t[-1] + grid, bt[sidx]))  # 終端を1グリッド延長\n",
    "\n",
    "fig, ax = plt.subplots(figsize=(10, 0.6))\n",
    "for s, e, b in segments:\n",
    "    ax.hlines(0, s, e, colors=fixed_colors.get(b,'gray'), linewidth=6,\n",
    "              capstyle='butt', antialiaseds=False)\n",
    "\n",
    "xmin, xmax = float(t.min()), float(t.max())\n",
    "ax.set_xlim(xmin, xmax)\n",
    "tick_start = 25 * np.ceil(xmin/25.0)\n",
    "ax.set_xticks(np.arange(tick_start, xmax+0.1, 25.0))\n",
    "ax.set_xlabel('Time [s]')\n",
    "\n",
    "ax.get_yaxis().set_visible(False)\n",
    "for sp in ['top','left','right']:\n",
    "    ax.spines[sp].set_visible(False)\n",
    "\n",
    "plt.tight_layout()\n",
    "plt.savefig('color_bar_no_gap_D_quantized.png', dpi=300, bbox_inches='tight')\n",
    "plt.show()\n"
   ]
  },
  {
   "cell_type": "code",
   "execution_count": 19,
   "id": "b05ce561",
   "metadata": {},
   "outputs": [
    {
     "data": {
      "image/png": "[encoded data removed]",
      "text/plain": [
       "<Figure size 1000x80 with 1 Axes>"
      ]
     },
     "metadata": {},
     "output_type": "display_data"
    }
   ],
   "source": [
    "import pandas as pd\n",
    "import numpy as np\n",
    "import matplotlib.pyplot as plt\n",
    "from matplotlib.patches import Rectangle\n",
    "\n",
    "# === 入力 ===\n",
    "xlsx_path = 'Behavioral_type.xlsx'\n",
    "df = pd.read_excel(xlsx_path)[['Delta', 'BehavType']].dropna(subset=['Delta']).sort_values('Delta').reset_index(drop=True)\n",
    "\n",
    "# === 色マップ（指定どおり） ===\n",
    "fixed_colors = {\n",
    "    -1: '#EBB51E',  # オレンジ\n",
    "     0: '#0471BD',  # 青\n",
    "     1: '#4E9E36',  # 緑\n",
    "     2: '#6D2FA0',  # 紫\n",
    "}\n",
    "\n",
    "# === 連続区間を「サンプル中点のエッジ」で作成（白い隙間防止） ===\n",
    "t = df['Delta'].to_numpy()\n",
    "bt = df['BehavType'].to_numpy()\n",
    "\n",
    "# サンプル時刻が一つだけの場合のフォールバック\n",
    "if len(t) == 1:\n",
    "    dt_med = 0.1\n",
    "    edges = np.array([t[0] - dt_med/2, t[0] + dt_med/2])\n",
    "else:\n",
    "    dt = np.diff(t)\n",
    "    dt_med = np.median(dt) if len(dt) > 0 else 0.1\n",
    "    edges = np.concatenate(([t[0] - dt_med/2], (t[:-1] + t[1:]) / 2, [t[-1] + dt_med/2]))\n",
    "\n",
    "# 同一ラベルの連続区間へ圧縮\n",
    "segments = []\n",
    "start_idx = 0\n",
    "for i in range(1, len(bt)):\n",
    "    if bt[i] != bt[start_idx]:\n",
    "        segments.append((edges[start_idx], edges[i], bt[start_idx]))\n",
    "        start_idx = i\n",
    "segments.append((edges[start_idx], edges[len(bt)], bt[start_idx]))\n",
    "\n",
    "# === 描画（矩形で帯を塗る） ===\n",
    "fig, ax = plt.subplots(figsize=(10, 0.8))\n",
    "\n",
    "for s, e, b in segments:\n",
    "    color = fixed_colors.get(b, '#A0A0A0')  # 未定義ラベルは灰色\n",
    "    width = max(e - s, 0.0)\n",
    "    if width <= 0:\n",
    "        continue\n",
    "    ax.add_patch(Rectangle((s, -0.5), width, 1.0, linewidth=0, facecolor=color))\n",
    "\n",
    "# 軸設定：25秒刻み\n",
    "xmin, xmax = float(t.min()), float(t.max())\n",
    "ax.set_xlim(xmin, xmax)\n",
    "ax.set_ylim(-0.5, 0.5)\n",
    "tick_start = 25 * np.ceil(xmin / 25.0)\n",
    "ax.set_xticks(np.arange(tick_start, xmax + 1e-9, 25.0))\n",
    "ax.set_yticks([])\n",
    "ax.set_xlabel('Time [s]')\n",
    "\n",
    "# 余計な枠を消す\n",
    "for sp in ['top', 'left', 'right']:\n",
    "    ax.spines[sp].set_visible(False)\n",
    "\n",
    "plt.tight_layout()\n",
    "plt.savefig('color_bar_behavtype_rect.tif', dpi=300, bbox_inches='tight')\n",
    "plt.show()\n"
   ]
  },
  {
   "cell_type": "code",
   "execution_count": null,
   "id": "76e1cc0e",
   "metadata": {},
   "outputs": [],
   "source": []
  },
  {
   "cell_type": "code",
   "execution_count": null,
   "id": "f799c8ec",
   "metadata": {},
   "outputs": [],
   "source": []
  }
 ],
 "metadata": {
  "kernelspec": {
   "display_name": "Python 3 (ipykernel)",
   "language": "python",
   "name": "python3"
  },
  "language_info": {
   "codemirror_mode": {
    "name": "ipython",
    "version": 3
   },
   "file_extension": ".py",
   "mimetype": "text/x-python",
   "name": "python",
   "nbconvert_exporter": "python",
   "pygments_lexer": "ipython3",
   "version": "3.10.14"
  }
 },
 "nbformat": 4,
 "nbformat_minor": 5
}
