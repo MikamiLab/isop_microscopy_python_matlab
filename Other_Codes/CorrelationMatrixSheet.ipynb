{
 "cells": [
  {
   "cell_type": "code",
   "execution_count": 2,
   "id": "54388aab",
   "metadata": {},
   "outputs": [
    {
     "name": "stdout",
     "output_type": "stream",
     "text": [
      "相関係数マトリクスを crosscorrelogram_matrix.xlsx に保存しました。\n"
     ]
    }
   ],
   "source": [
    "import pandas as pd\n",
    "\n",
    "# データの読み込み\n",
    "df = pd.read_csv(\"tmac_activities_best_cellID_with_Behaviors.csv\")\n",
    "\n",
    "# 使用するカラムの選定（全cell + 行動指標）\n",
    "cell_columns = [col for col in df.columns if col.startswith(\"cell\")]\n",
    "behavior_columns = [\"Behavior5\", \"Behavioral State\"]  # 必要に応じて他の行動指標も追加可\n",
    "columns_to_use = cell_columns + behavior_columns\n",
    "\n",
    "# 相関解析用データの抽出とNaN除去\n",
    "df_subset = df[columns_to_use].dropna()\n",
    "\n",
    "# 相関係数行列の計算（Pearson）\n",
    "corr_matrix = df_subset.corr(method='pearson')\n",
    "\n",
    "# 出力：Excelファイルに保存\n",
    "output_file = \"crosscorrelogram_matrix.xlsx\"\n",
    "corr_matrix.to_excel(output_file)\n",
    "\n",
    "print(f\"相関係数マトリクスを {output_file} に保存しました。\")\n"
   ]
  },
  {
   "cell_type": "code",
   "execution_count": 3,
   "id": "3f12afe6",
   "metadata": {},
   "outputs": [
    {
     "name": "stdout",
     "output_type": "stream",
     "text": [
      "行動カテゴリごとの細胞相関を 'behavior_category_correlation.xlsx' に保存しました。\n"
     ]
    }
   ],
   "source": [
    "import pandas as pd\n",
    "\n",
    "# データ読み込み\n",
    "df = pd.read_csv(\"tmac_activities_best_cellID_with_Behaviors.csv\")\n",
    "\n",
    "# セル活動列とカテゴリ行動列\n",
    "cell_columns = [col for col in df.columns if col.startswith(\"cell\")]\n",
    "behavior_col = \"Behavioral State\"\n",
    "\n",
    "# 行動ラベルと対応名\n",
    "behavior_labels = {\n",
    "    1: \"Forward\",\n",
    "    0: \"Pause\",\n",
    "    2: \"Coiling\",\n",
    "    -1: \"Backward\"\n",
    "}\n",
    "\n",
    "# 出力用DataFrameの初期化\n",
    "correlation_results = pd.DataFrame(index=cell_columns, columns=behavior_labels.values())\n",
    "\n",
    "# 各行動カテゴリごとにバイナリマスクを作成し、各細胞と相関を計算\n",
    "for value, label in behavior_labels.items():\n",
    "    # バイナリマスク作成（その行動のときだけ1、それ以外は0）\n",
    "    mask = (df[behavior_col] == value).astype(int)\n",
    "    \n",
    "    # 各セルとの相関を計算\n",
    "    for cell in cell_columns:\n",
    "        if df[cell].isnull().any():  # 欠損値があれば除く\n",
    "            valid_idx = ~df[cell].isnull()\n",
    "            corr = df[cell][valid_idx].corr(mask[valid_idx])\n",
    "        else:\n",
    "            corr = df[cell].corr(mask)\n",
    "        correlation_results.loc[cell, label] = corr\n",
    "\n",
    "# 数値型に変換（Excel出力時のため）\n",
    "correlation_results = correlation_results.astype(float)\n",
    "\n",
    "# Excelに保存\n",
    "correlation_results.to_excel(\"behavior_category_correlation.xlsx\")\n",
    "\n",
    "print(\"行動カテゴリごとの細胞相関を 'behavior_category_correlation.xlsx' に保存しました。\")\n"
   ]
  },
  {
   "cell_type": "code",
   "execution_count": null,
   "id": "a943a24e",
   "metadata": {},
   "outputs": [],
   "source": []
  },
  {
   "cell_type": "code",
   "execution_count": null,
   "id": "a2fdc511",
   "metadata": {},
   "outputs": [],
   "source": []
  }
 ],
 "metadata": {
  "kernelspec": {
   "display_name": "Python 3 (ipykernel)",
   "language": "python",
   "name": "python3"
  },
  "language_info": {
   "codemirror_mode": {
    "name": "ipython",
    "version": 3
   },
   "file_extension": ".py",
   "mimetype": "text/x-python",
   "name": "python",
   "nbconvert_exporter": "python",
   "pygments_lexer": "ipython3",
   "version": "3.10.14"
  }
 },
 "nbformat": 4,
 "nbformat_minor": 5
}
