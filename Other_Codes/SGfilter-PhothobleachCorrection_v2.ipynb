{
 "cells": [
  {
   "cell_type": "code",
   "execution_count": 1,
   "id": "e36661b3",
   "metadata": {},
   "outputs": [
    {
     "name": "stdout",
     "output_type": "stream",
     "text": [
      "\n",
      "=== Processing: ensemble_tdTomato_10mW-4_v2_cleaned.csv ===\n"
     ]
    },
    {
     "name": "stderr",
     "output_type": "stream",
     "text": [
      "Processing tdTomato_10mW-4_v2 (preserve NaN): 100%|█| 52/52 [00:01<00:00, 27.65i\n"
     ]
    },
    {
     "name": "stdout",
     "output_type": "stream",
     "text": [
      "\n",
      "=== Processing: ensemble_GCaMP_10mW-4_v2_cleaned.csv ===\n"
     ]
    },
    {
     "name": "stderr",
     "output_type": "stream",
     "text": [
      "Processing GCaMP_10mW-4_v2 (preserve NaN): 100%|█| 52/52 [00:01<00:00, 37.15it/s\n"
     ]
    },
    {
     "name": "stdout",
     "output_type": "stream",
     "text": [
      "\n",
      "=== Processing: ensemble_tdTomato_12mW-3_v2_cleaned.csv ===\n"
     ]
    },
    {
     "name": "stderr",
     "output_type": "stream",
     "text": [
      "Processing tdTomato_12mW-3_v2 (preserve NaN): 100%|█| 40/40 [00:00<00:00, 50.05i\n"
     ]
    },
    {
     "name": "stdout",
     "output_type": "stream",
     "text": [
      "\n",
      "=== Processing: ensemble_GCaMP_12mW-3_v2_cleaned.csv ===\n"
     ]
    },
    {
     "name": "stderr",
     "output_type": "stream",
     "text": [
      "Processing GCaMP_12mW-3_v2 (preserve NaN): 100%|█| 40/40 [00:00<00:00, 44.97it/s\n"
     ]
    },
    {
     "name": "stdout",
     "output_type": "stream",
     "text": [
      "\n",
      "=== Processing: ensemble_tdTomato_7mW-3_cleaned.csv ===\n"
     ]
    },
    {
     "name": "stderr",
     "output_type": "stream",
     "text": [
      "Processing tdTomato_7mW-3 (preserve NaN): 100%|█| 72/72 [00:01<00:00, 53.82it/s]\n"
     ]
    },
    {
     "name": "stdout",
     "output_type": "stream",
     "text": [
      "\n",
      "=== Processing: ensemble_GCaMP_7mW-3_cleaned.csv ===\n"
     ]
    },
    {
     "name": "stderr",
     "output_type": "stream",
     "text": [
      "Processing GCaMP_7mW-3 (preserve NaN): 100%|████| 72/72 [00:02<00:00, 29.86it/s]\n"
     ]
    },
    {
     "name": "stdout",
     "output_type": "stream",
     "text": [
      "\n",
      "✅ 全データの処理と保存が完了しました。\n"
     ]
    }
   ],
   "source": [
    "#NaN補完後、NaNリカバリー\n",
    "# === 必要なライブラリ ===\n",
    "import pandas as pd\n",
    "import numpy as np\n",
    "from scipy.signal import savgol_filter\n",
    "from scipy.optimize import curve_fit\n",
    "from tqdm import tqdm\n",
    "from pathlib import Path\n",
    "\n",
    "# === 2指数関数モデル定義 ===\n",
    "def double_exp_independent(t, a, b, c, d):\n",
    "    return a * np.exp(-b * t) + c * np.exp(-d * t)\n",
    "\n",
    "# === NaN復元ありSG + 褪色補正処理関数 ===\n",
    "def process_signal_preserve_nan(df_raw, label):\n",
    "    df_filtered = pd.DataFrame()\n",
    "    df_corrected = pd.DataFrame()\n",
    "    t = np.arange(len(df_raw))\n",
    "\n",
    "    # 初期値: 全cellの1フレーム目の平均\n",
    "    first_frame_vals = df_raw.iloc[0, 1:].dropna()\n",
    "    a0 = c0 = first_frame_vals.mean()\n",
    "\n",
    "    for col in tqdm(df_raw.columns[1:], desc=f\"Processing {label} (preserve NaN)\"):\n",
    "        y = df_raw[col].astype(float).values\n",
    "        nan_mask = np.isnan(y)\n",
    "\n",
    "        if np.all(nan_mask):\n",
    "            df_filtered[col] = y\n",
    "            df_corrected[col] = y\n",
    "            continue\n",
    "\n",
    "        # 一時的に補完（線形補間 + 前後補完）\n",
    "        y_interp = pd.Series(y).interpolate(limit_direction='both').fillna(method='bfill').fillna(method='ffill').values\n",
    "\n",
    "        # SGフィルタ\n",
    "        y_sg = savgol_filter(y_interp, window_length=7, polyorder=1)\n",
    "        y_sg[nan_mask] = np.nan  # 元のNaNを復元\n",
    "        df_filtered[col] = y_sg\n",
    "\n",
    "        try:\n",
    "            # 褪色補正（NaN除いたデータでフィット）\n",
    "            popt, _ = curve_fit(\n",
    "                double_exp_independent,\n",
    "                t[~nan_mask],\n",
    "                y_sg[~nan_mask],\n",
    "                p0=[a0, 0.01, c0, 0.001],\n",
    "                bounds=([0, 0, 0, 0], [2000, 1, 2000, 1]),\n",
    "                maxfev=10000\n",
    "            )\n",
    "            fitted = double_exp_independent(t, *popt)\n",
    "            scale = double_exp_independent(0, *popt) / fitted\n",
    "            corrected = y_sg * scale\n",
    "            corrected[nan_mask] = np.nan  # 元のNaNを復元\n",
    "            df_corrected[col] = corrected\n",
    "        except RuntimeError:\n",
    "            df_corrected[col] = y_sg  # フィット失敗時はSG済みデータのみ使用\n",
    "\n",
    "    # timing列を復元\n",
    "    df_filtered.insert(0, 'timing', df_raw['timing'])\n",
    "    df_corrected.insert(0, 'timing', df_raw['timing'])\n",
    "    return df_filtered, df_corrected\n",
    "\n",
    "# === 対象ファイルとラベルのペア ===\n",
    "input_files = [\n",
    "    (\"ensemble_tdTomato_10mW-4_v2_cleaned.csv\", \"tdTomato_10mW-4_v2\"),\n",
    "    (\"ensemble_GCaMP_10mW-4_v2_cleaned.csv\", \"GCaMP_10mW-4_v2\"),\n",
    "    (\"ensemble_tdTomato_12mW-3_v2_cleaned.csv\", \"tdTomato_12mW-3_v2\"),\n",
    "    (\"ensemble_GCaMP_12mW-3_v2_cleaned.csv\", \"GCaMP_12mW-3_v2\"),\n",
    "    (\"ensemble_tdTomato_7mW-3_cleaned.csv\", \"tdTomato_7mW-3\"),\n",
    "    (\"ensemble_GCaMP_7mW-3_cleaned.csv\", \"GCaMP_7mW-3\"),\n",
    "]\n",
    "\n",
    "# === 出力ディレクトリの作成 ===\n",
    "output_dir = Path(\"bleach_corrected_preserve_nan\")\n",
    "output_dir.mkdir(parents=True, exist_ok=True)\n",
    "\n",
    "# === 一括処理ループ ===\n",
    "for filename, label in input_files:\n",
    "    print(f\"\\n=== Processing: {filename} ===\")\n",
    "    df = pd.read_csv(filename)\n",
    "\n",
    "    # SG + 褪色補正（NaN補完 → 処理 → NaN復元）\n",
    "    df_filtered, df_corrected = process_signal_preserve_nan(df, label)\n",
    "\n",
    "    # 出力ファイル保存\n",
    "    df_filtered.to_csv(output_dir / f\"{label}_sg_filtered_win7.csv\", index=False)\n",
    "    df_corrected.to_csv(output_dir / f\"{label}_bleach_corrected_win7.csv\", index=False)\n",
    "\n",
    "print(\"\\n✅ 全データの処理と保存が完了しました。\")\n"
   ]
  },
  {
   "cell_type": "code",
   "execution_count": 1,
   "id": "0de37d71",
   "metadata": {},
   "outputs": [
    {
     "name": "stdout",
     "output_type": "stream",
     "text": [
      "\n",
      "=== Processing: ensemble_tdTomato_7mW-3_cleaned.csv ===\n"
     ]
    },
    {
     "name": "stderr",
     "output_type": "stream",
     "text": [
      "Processing tdTomato_7mW-3: 100%|████████████████| 72/72 [00:01<00:00, 53.22it/s]\n"
     ]
    },
    {
     "name": "stdout",
     "output_type": "stream",
     "text": [
      "\n",
      "=== Processing: ensemble_GCaMP_7mW-3_cleaned.csv ===\n"
     ]
    },
    {
     "name": "stderr",
     "output_type": "stream",
     "text": [
      "Processing GCaMP_7mW-3: 100%|███████████████████| 72/72 [00:01<00:00, 50.87it/s]\n"
     ]
    },
    {
     "name": "stdout",
     "output_type": "stream",
     "text": [
      "\n",
      "=== Processing: ensemble_tdTomato_10mW-4_cleaned.csv ===\n"
     ]
    },
    {
     "name": "stderr",
     "output_type": "stream",
     "text": [
      "Processing tdTomato_10mW-4: 100%|███████████████| 32/32 [00:00<00:00, 59.73it/s]\n"
     ]
    },
    {
     "name": "stdout",
     "output_type": "stream",
     "text": [
      "\n",
      "=== Processing: ensemble_GCaMP_10mW-4_cleaned.csv ===\n"
     ]
    },
    {
     "name": "stderr",
     "output_type": "stream",
     "text": [
      "Processing GCaMP_10mW-4: 100%|██████████████████| 32/32 [00:00<00:00, 44.62it/s]\n"
     ]
    },
    {
     "name": "stdout",
     "output_type": "stream",
     "text": [
      "\n",
      "=== Processing: ensemble_tdTomato_12mW-3_cleaned.csv ===\n"
     ]
    },
    {
     "name": "stderr",
     "output_type": "stream",
     "text": [
      "Processing tdTomato_12mW-3: 100%|███████████████| 30/30 [00:00<00:00, 60.28it/s]\n"
     ]
    },
    {
     "name": "stdout",
     "output_type": "stream",
     "text": [
      "\n",
      "=== Processing: ensemble_GCaMP_12mW-3_cleaned.csv ===\n"
     ]
    },
    {
     "name": "stderr",
     "output_type": "stream",
     "text": [
      "Processing GCaMP_12mW-3: 100%|██████████████████| 30/30 [00:00<00:00, 71.27it/s]\n"
     ]
    },
    {
     "name": "stdout",
     "output_type": "stream",
     "text": [
      "\n",
      "✅ 全データの処理と保存が完了しました。\n"
     ]
    }
   ],
   "source": [
    "# === 必要なライブラリ ===\n",
    "import pandas as pd\n",
    "import numpy as np\n",
    "from scipy.signal import savgol_filter\n",
    "from scipy.optimize import curve_fit\n",
    "from tqdm import tqdm\n",
    "from pathlib import Path\n",
    "\n",
    "# === 2指数関数モデル定義 ===\n",
    "def double_exp_independent(t, a, b, c, d):\n",
    "    return a * np.exp(-b * t) + c * np.exp(-d * t)\n",
    "\n",
    "# === SG + 褪色補正処理関数 ===\n",
    "def process_signal(df_raw, label):\n",
    "    df_filtered = pd.DataFrame()\n",
    "    df_corrected = pd.DataFrame()\n",
    "    t = np.arange(len(df_raw))\n",
    "\n",
    "    # 初期値: 全cellの1フレーム目の平均\n",
    "    first_frame_vals = df_raw.iloc[0, 1:].dropna()\n",
    "    a0 = c0 = first_frame_vals.mean()\n",
    "\n",
    "    for col in tqdm(df_raw.columns[1:], desc=f\"Processing {label}\"):\n",
    "        y = df_raw[col].astype(float).values\n",
    "        if np.isnan(y).all():\n",
    "            df_filtered[col] = y\n",
    "            df_corrected[col] = y\n",
    "            continue\n",
    "\n",
    "        # NaN補完（前後補間 + 端補完）\n",
    "        y_interp = pd.Series(y).interpolate(limit_direction='both').fillna(method='bfill').fillna(method='ffill').values\n",
    "\n",
    "        # SGフィルタ適用\n",
    "        y_sg = savgol_filter(y_interp, window_length=13, polyorder=1)\n",
    "        df_filtered[col] = y_sg\n",
    "\n",
    "        try:\n",
    "            # 褪色補正フィット\n",
    "            popt, _ = curve_fit(\n",
    "                double_exp_independent,\n",
    "                t,\n",
    "                y_sg,\n",
    "                p0=[a0, 0.01, c0, 0.001],\n",
    "                bounds=([0, 0, 0, 0], [2000, 1, 2000, 1]),\n",
    "                maxfev=10000\n",
    "            )\n",
    "            fitted = double_exp_independent(t, *popt)\n",
    "            scale = double_exp_independent(0, *popt) / fitted\n",
    "            corrected = y_sg * scale\n",
    "            df_corrected[col] = corrected\n",
    "        except RuntimeError:\n",
    "            df_corrected[col] = y_sg  # フィット失敗時はSG済みデータ\n",
    "\n",
    "    # timing列を復元\n",
    "    df_filtered.insert(0, 'timing', df_raw['timing'])\n",
    "    df_corrected.insert(0, 'timing', df_raw['timing'])\n",
    "    return df_filtered, df_corrected\n",
    "\n",
    "# === 対象ファイルとラベルのペア ===\n",
    "input_files = [\n",
    "    (\"ensemble_tdTomato_7mW-3_cleaned.csv\", \"tdTomato_7mW-3\"),\n",
    "    (\"ensemble_GCaMP_7mW-3_cleaned.csv\", \"GCaMP_7mW-3\"),\n",
    "    (\"ensemble_tdTomato_10mW-4_cleaned.csv\", \"tdTomato_10mW-4\"),\n",
    "    (\"ensemble_GCaMP_10mW-4_cleaned.csv\", \"GCaMP_10mW-4\"),\n",
    "    (\"ensemble_tdTomato_12mW-3_cleaned.csv\", \"tdTomato_12mW-3\"),\n",
    "    (\"ensemble_GCaMP_12mW-3_cleaned.csv\", \"GCaMP_12mW-3\"),\n",
    "]\n",
    "\n",
    "# === 出力ディレクトリの作成 ===\n",
    "output_dir = Path(\"bleach_corrected_all_v2\")\n",
    "output_dir.mkdir(parents=True, exist_ok=True)\n",
    "\n",
    "# === 一括処理ループ ===\n",
    "for filename, label in input_files:\n",
    "    print(f\"\\n=== Processing: {filename} ===\")\n",
    "    df = pd.read_csv(filename)\n",
    "\n",
    "    # SG + 褪色補正\n",
    "    df_filtered, df_corrected = process_signal(df, label)\n",
    "\n",
    "    # 出力ファイル保存\n",
    "    df_filtered.to_csv(output_dir / f\"{label}_sg_filtered.csv\", index=False)\n",
    "    df_corrected.to_csv(output_dir / f\"{label}_bleach_corrected.csv\", index=False)\n",
    "\n",
    "print(\"\\n✅ 全データの処理と保存が完了しました。\")\n"
   ]
  },
  {
   "cell_type": "code",
   "execution_count": 5,
   "id": "9d137622",
   "metadata": {},
   "outputs": [
    {
     "name": "stdout",
     "output_type": "stream",
     "text": [
      "\n",
      "=== Processing: ensemble_tdTomato_cleaned_10mW-1_good.csv ===\n"
     ]
    },
    {
     "name": "stderr",
     "output_type": "stream",
     "text": [
      "Processing tdTomato_cleaned_10mW-1_good: 100%|██| 93/93 [00:02<00:00, 43.53it/s]\n"
     ]
    },
    {
     "name": "stdout",
     "output_type": "stream",
     "text": [
      "\n",
      "=== Processing: ensemble_GCaMP_cleaned_10mW-1_good.csv ===\n"
     ]
    },
    {
     "name": "stderr",
     "output_type": "stream",
     "text": [
      "Processing GCaMP_cleaned_10mW-1_good: 100%|█████| 93/93 [00:02<00:00, 44.94it/s]\n"
     ]
    },
    {
     "name": "stdout",
     "output_type": "stream",
     "text": [
      "\n",
      "✅ 全データの処理と保存が完了しました。\n"
     ]
    }
   ],
   "source": [
    "# === 必要なライブラリ ===\n",
    "import pandas as pd\n",
    "import numpy as np\n",
    "from scipy.signal import savgol_filter\n",
    "from scipy.optimize import curve_fit\n",
    "from tqdm import tqdm\n",
    "from pathlib import Path\n",
    "\n",
    "# === 2指数関数モデル定義 ===\n",
    "def double_exp_independent(t, a, b, c, d):\n",
    "    return a * np.exp(-b * t) + c * np.exp(-d * t)\n",
    "\n",
    "# === SG + 褪色補正処理関数 ===\n",
    "def process_signal(df_raw, label):\n",
    "    df_filtered = pd.DataFrame()\n",
    "    df_corrected = pd.DataFrame()\n",
    "    t = np.arange(len(df_raw))\n",
    "\n",
    "    # 初期値: 全cellの1フレーム目の平均\n",
    "    first_frame_vals = df_raw.iloc[0, 1:].dropna()\n",
    "    a0 = c0 = first_frame_vals.mean()\n",
    "\n",
    "    for col in tqdm(df_raw.columns[1:], desc=f\"Processing {label}\"):\n",
    "        y = df_raw[col].astype(float).values\n",
    "        if np.isnan(y).all():\n",
    "            df_filtered[col] = y\n",
    "            df_corrected[col] = y\n",
    "            continue\n",
    "\n",
    "        # NaN補完（前後補間 + 端補完）\n",
    "        y_interp = pd.Series(y).interpolate(limit_direction='both').fillna(method='bfill').fillna(method='ffill').values\n",
    "\n",
    "        # SGフィルタ適用\n",
    "        y_sg = savgol_filter(y_interp, window_length=13, polyorder=1)\n",
    "        df_filtered[col] = y_sg\n",
    "\n",
    "        try:\n",
    "            # 褪色補正フィット\n",
    "            popt, _ = curve_fit(\n",
    "                double_exp_independent,\n",
    "                t,\n",
    "                y_sg,\n",
    "                p0=[a0, 0.01, c0, 0.001],\n",
    "                bounds=([0, 0, 0, 0], [2000, 1, 2000, 1]),\n",
    "                maxfev=10000\n",
    "            )\n",
    "            fitted = double_exp_independent(t, *popt)\n",
    "            scale = double_exp_independent(0, *popt) / fitted\n",
    "            corrected = y_sg * scale\n",
    "            df_corrected[col] = corrected\n",
    "        except RuntimeError:\n",
    "            df_corrected[col] = y_sg  # フィット失敗時はSG済みデータ\n",
    "\n",
    "    # timing列を復元\n",
    "    df_filtered.insert(0, 'timing', df_raw['timing'])\n",
    "    df_corrected.insert(0, 'timing', df_raw['timing'])\n",
    "    return df_filtered, df_corrected\n",
    "\n",
    "# === 対象ファイルとラベルのペア ===\n",
    "input_files = [\n",
    "    (\"ensemble_tdTomato_cleaned_10mW-1_good.csv\", \"tdTomato_cleaned_10mW-1_good\"),\n",
    "    (\"ensemble_GCaMP_cleaned_10mW-1_good.csv\", \"GCaMP_cleaned_10mW-1_good\"),\n",
    "\n",
    "]\n",
    "\n",
    "# === 出力ディレクトリの作成 ===\n",
    "output_dir = Path(\"bleach_corrected_all_v2\")\n",
    "output_dir.mkdir(parents=True, exist_ok=True)\n",
    "\n",
    "# === 一括処理ループ ===\n",
    "for filename, label in input_files:\n",
    "    print(f\"\\n=== Processing: {filename} ===\")\n",
    "    df = pd.read_csv(filename)\n",
    "\n",
    "    # SG + 褪色補正\n",
    "    df_filtered, df_corrected = process_signal(df, label)\n",
    "\n",
    "    # 出力ファイル保存\n",
    "    df_filtered.to_csv(output_dir / f\"{label}_sg_filtered.csv\", index=False)\n",
    "    df_corrected.to_csv(output_dir / f\"{label}_bleach_corrected.csv\", index=False)\n",
    "\n",
    "print(\"\\n✅ 全データの処理と保存が完了しました。\")\n"
   ]
  },
  {
   "cell_type": "code",
   "execution_count": null,
   "id": "f0c8a111",
   "metadata": {},
   "outputs": [],
   "source": [
    "#NaN補完後、NaNリカバリー\n",
    "# === 必要なライブラリ ===\n",
    "import pandas as pd\n",
    "import numpy as np\n",
    "from scipy.signal import savgol_filter\n",
    "from scipy.optimize import curve_fit\n",
    "from tqdm import tqdm\n",
    "from pathlib import Path\n",
    "\n",
    "# === 2指数関数モデル定義 ===\n",
    "def double_exp_independent(t, a, b, c, d):\n",
    "    return a * np.exp(-b * t) + c * np.exp(-d * t)\n",
    "\n",
    "# === NaN復元ありSG + 褪色補正処理関数 ===\n",
    "def process_signal_preserve_nan(df_raw, label):\n",
    "    df_filtered = pd.DataFrame()\n",
    "    df_corrected = pd.DataFrame()\n",
    "    t = np.arange(len(df_raw))\n",
    "\n",
    "    # 初期値: 全cellの1フレーム目の平均\n",
    "    first_frame_vals = df_raw.iloc[0, 1:].dropna()\n",
    "    a0 = c0 = first_frame_vals.mean()\n",
    "\n",
    "    for col in tqdm(df_raw.columns[1:], desc=f\"Processing {label} (preserve NaN)\"):\n",
    "        y = df_raw[col].astype(float).values\n",
    "        nan_mask = np.isnan(y)\n",
    "\n",
    "        if np.all(nan_mask):\n",
    "            df_filtered[col] = y\n",
    "            df_corrected[col] = y\n",
    "            continue\n",
    "\n",
    "        # 一時的に補完（線形補間 + 前後補完）\n",
    "        y_interp = pd.Series(y).interpolate(limit_direction='both').fillna(method='bfill').fillna(method='ffill').values\n",
    "\n",
    "        # SGフィルタ\n",
    "        y_sg = savgol_filter(y_interp, window_length=13, polyorder=1)\n",
    "        y_sg[nan_mask] = np.nan  # 元のNaNを復元\n",
    "        df_filtered[col] = y_sg\n",
    "\n",
    "        try:\n",
    "            # 褪色補正（NaN除いたデータでフィット）\n",
    "            popt, _ = curve_fit(\n",
    "                double_exp_independent,\n",
    "                t[~nan_mask],\n",
    "                y_sg[~nan_mask],\n",
    "                p0=[a0, 0.01, c0, 0.001],\n",
    "                bounds=([0, 0, 0, 0], [2000, 1, 2000, 1]),\n",
    "                maxfev=10000\n",
    "            )\n",
    "            fitted = double_exp_independent(t, *popt)\n",
    "            scale = double_exp_independent(0, *popt) / fitted\n",
    "            corrected = y_sg * scale\n",
    "            corrected[nan_mask] = np.nan  # 元のNaNを復元\n",
    "            df_corrected[col] = corrected\n",
    "        except RuntimeError:\n",
    "            df_corrected[col] = y_sg  # フィット失敗時はSG済みデータのみ使用\n",
    "\n",
    "    # timing列を復元\n",
    "    df_filtered.insert(0, 'timing', df_raw['timing'])\n",
    "    df_corrected.insert(0, 'timing', df_raw['timing'])\n",
    "    return df_filtered, df_corrected\n",
    "\n",
    "# === 対象ファイルとラベルのペア ===\n",
    "input_files = [\n",
    "    (\"ensemble_tdTomato_7mW-3_cleaned.csv\", \"tdTomato_7mW-3\"),\n",
    "    (\"ensemble_GCaMP_7mW-3_cleaned.csv\", \"GCaMP_7mW-3\"),\n",
    "    (\"ensemble_tdTomato_10mW-4_cleaned.csv\", \"tdTomato_10mW-4\"),\n",
    "    (\"ensemble_GCaMP_10mW-4_cleaned.csv\", \"GCaMP_10mW-4\"),\n",
    "    (\"ensemble_tdTomato_12mW-3_cleaned.csv\", \"tdTomato_12mW-3\"),\n",
    "    (\"ensemble_GCaMP_12mW-3_cleaned.csv\", \"GCaMP_12mW-3\"),\n",
    "]\n",
    "\n",
    "# === 出力ディレクトリの作成 ===\n",
    "output_dir = Path(\"bleach_corrected_preserve_nan\")\n",
    "output_dir.mkdir(parents=True, exist_ok=True)\n",
    "\n",
    "# === 一括処理ループ ===\n",
    "for filename, label in input_files:\n",
    "    print(f\"\\n=== Processing: {filename} ===\")\n",
    "    df = pd.read_csv(filename)\n",
    "\n",
    "    # SG + 褪色補正（NaN補完 → 処理 → NaN復元）\n",
    "    df_filtered, df_corrected = process_signal_preserve_nan(df, label)\n",
    "\n",
    "    # 出力ファイル保存\n",
    "    df_filtered.to_csv(output_dir / f\"{label}_sg_filtered.csv\", index=False)\n",
    "    df_corrected.to_csv(output_dir / f\"{label}_bleach_corrected.csv\", index=False)\n",
    "\n",
    "print(\"\\n✅ 全データの処理と保存が完了しました。\")\n"
   ]
  }
 ],
 "metadata": {
  "kernelspec": {
   "display_name": "Python 3 (ipykernel)",
   "language": "python",
   "name": "python3"
  },
  "language_info": {
   "codemirror_mode": {
    "name": "ipython",
    "version": 3
   },
   "file_extension": ".py",
   "mimetype": "text/x-python",
   "name": "python",
   "nbconvert_exporter": "python",
   "pygments_lexer": "ipython3",
   "version": "3.10.14"
  }
 },
 "nbformat": 4,
 "nbformat_minor": 5
}
