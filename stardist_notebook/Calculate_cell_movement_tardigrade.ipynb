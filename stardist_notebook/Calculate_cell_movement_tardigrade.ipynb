{
 "cells": [
  {
   "cell_type": "markdown",
   "id": "df6fcaeb",
   "metadata": {},
   "source": [
    "# Calculate cells movement\n",
    "\n",
    "### calculating 3D cell movements and saving in csv file.\n",
    "\n",
    "### 3次元的なROIの移動距離を算出するコードです。クマムシ用 Choose Stardist env"
   ]
  },
  {
   "cell_type": "code",
   "execution_count": 4,
   "id": "8dfeda8a",
   "metadata": {},
   "outputs": [
    {
     "data": {
      "text/html": [
       "<style>.container { width:95% !important; }</style>"
      ],
      "text/plain": [
       "<IPython.core.display.HTML object>"
      ]
     },
     "metadata": {},
     "output_type": "display_data"
    },
    {
     "ename": "ModuleNotFoundError",
     "evalue": "No module named 'CellTracker'",
     "output_type": "error",
     "traceback": [
      "\u001b[1;31m---------------------------------------------------------------------------\u001b[0m",
      "\u001b[1;31mModuleNotFoundError\u001b[0m                       Traceback (most recent call last)",
      "\u001b[1;32m~\\AppData\\Local\\Temp\\ipykernel_3580396\\1112566661.py\u001b[0m in \u001b[0;36m<module>\u001b[1;34m\u001b[0m\n\u001b[0;32m     21\u001b[0m \u001b[1;33m\u001b[0m\u001b[0m\n\u001b[0;32m     22\u001b[0m \u001b[1;33m\u001b[0m\u001b[0m\n\u001b[1;32m---> 23\u001b[1;33m \u001b[1;32mfrom\u001b[0m \u001b[0mCellTracker\u001b[0m\u001b[1;33m.\u001b[0m\u001b[0mstardistwrapper\u001b[0m \u001b[1;32mimport\u001b[0m \u001b[0mload_2d_slices_at_time\u001b[0m\u001b[1;33m\u001b[0m\u001b[1;33m\u001b[0m\u001b[0m\n\u001b[0m\u001b[0;32m     24\u001b[0m \u001b[1;33m\u001b[0m\u001b[0m\n\u001b[0;32m     25\u001b[0m \u001b[1;33m\u001b[0m\u001b[0m\n",
      "\u001b[1;31mModuleNotFoundError\u001b[0m: No module named 'CellTracker'"
     ]
    }
   ],
   "source": [
    "#重心計算の関数\n",
    "from __future__ import annotations  # ← 必ず一番最初（コメントやdocstringの後）\n",
    "\n",
    "import os\n",
    "import warnings\n",
    "warnings.filterwarnings('ignore')\n",
    "from IPython.core.display import display, HTML\n",
    "display(HTML(\"<style>.container { width:95% !important; }</style>\"))\n",
    "%matplotlib inline\n",
    "import numpy as np\n",
    "\n",
    "\n",
    "\n",
    "import re\n",
    "from glob import glob\n",
    "from pathlib import Path\n",
    "\n",
    "import numpy as np\n",
    "\n",
    "from scipy import ndimage\n",
    "\n",
    "\n",
    "from CellTracker.stardistwrapper import load_2d_slices_at_time\n",
    "\n",
    "\n",
    "\n",
    "\n",
    "def calculate_center(tracked_labels_path :str, raw_path: str | dict):\n",
    "    tracked_labels_path=Path(tracked_labels_path)\n",
    "    filenames = glob(str(tracked_labels_path / \"*t*.tif\"))\n",
    "    assert len(filenames) > 0, f\"No labels files were found in {tracked_labels_path / '*t*.tif'}\"\n",
    "    numbers = [int(re.findall(r\"t(\\d+)\", f)[0]) for f in filenames]\n",
    "    smallest_number = min(numbers)\n",
    "    largest_number = max(numbers)\n",
    "    for t in range(smallest_number, largest_number + 1):\n",
    "        print(f\"t={t}...\", end=\"\\r\")\n",
    "        try:\n",
    "            # Load 2D slices at time t\n",
    "            raw = load_2d_slices_at_time(raw_path, t=t)\n",
    "        except FileNotFoundError:\n",
    "            # Handle missing image files\n",
    "            print(f\"Warning: Raw images at t={t - 1} cannot be loaded! Stop calculation!\")\n",
    "            break\n",
    "\n",
    "        try:\n",
    "            # Load 2D slices at time t\n",
    "            labels_img = load_2d_slices_at_time(str(tracked_labels_path / \"*t%06i*.tif\"), t=t, do_normalize=False)\n",
    "        except FileNotFoundError:\n",
    "            # Handle missing image files\n",
    "            print(f\"Warning: Label images at t={t - 1} cannot be loaded!\")\n",
    "            if t == smallest_number:\n",
    "                print(\"Warning: stop calculation!\")\n",
    "                break\n",
    "            else:\n",
    "                print(f\"Warning: skip volume {t - 1}!\")\n",
    "                cell_position[t - smallest_number, :] = np.nan\n",
    "                continue\n",
    "\n",
    "        if t == smallest_number:\n",
    "            cell_num = np.max(labels_img)\n",
    "            label_number = list(range(cell_num+1))\n",
    "            cell_position = np.zeros((largest_number - smallest_number + 1,cell_num, 3))\n",
    "\n",
    "\n",
    "    \n",
    "\n",
    "\n",
    "        center_of_labels = ndimage.center_of_mass(raw, labels_img,label_number[1:cell_num+1])\n",
    "        cell_position[t-smallest_number,:] = center_of_labels[:]\n",
    "        \n",
    "\n",
    "\n",
    "    return cell_position"
   ]
  },
  {
   "cell_type": "code",
   "execution_count": null,
   "id": "bfad407b",
   "metadata": {},
   "outputs": [],
   "source": [
    "#生データとラベルデータを入力し、重心計算実行\n",
    "raw_path = {\"h5_file\":r\"P:\\Tardigrade\\Tardigrada_mukumoto\\orig\\raw_t=566-665\\raw_t=566~665.h5\",\n",
    "            \"dset\": \"default\",\n",
    "            \"channel\": 0}\n",
    "\n",
    "\n",
    "tracked_labels_path =r\"P:\\Tardigrade\\Tardigrada_mukumoto\\orig\\raw_t=566-665\\merged_5d_566-665\"\n",
    "\n",
    "#raw_path = r\"P:\\Ascidiacea\\orig\\241025ホヤ\\20220223-170215ASAPaiviatif_reconst\\*t%04d*.tif\"\n",
    "\n",
    "\n",
    "center_of_labels = calculate_center(tracked_labels_path = tracked_labels_path, raw_path=raw_path)\n",
    "\n"
   ]
  },
  {
   "cell_type": "code",
   "execution_count": null,
   "id": "1aace845",
   "metadata": {},
   "outputs": [],
   "source": [
    "#上で重心計算した結果をセーブする\n",
    "\n",
    "np.save(r\"P:\\Tardigrade\\Tardigrada_mukumoto\\ana\\t=566~665\\center_of_labels_t=566~665.npy\" ,center_of_labels )\n",
    "# center_of_labels=np.load(\"center_of_labels_t=201-221.npy\")\n",
    "print(center_of_labels.shape)"
   ]
  },
  {
   "cell_type": "code",
   "execution_count": null,
   "id": "5cd26354",
   "metadata": {},
   "outputs": [],
   "source": [
    "#下の計算をするための準備。ここで重心座標をロード\n",
    "#center_of_labels=np.load(r\"P:\\Tardigrade\\Tardigrada_mukumoto\\ana\\t=226~364\\center_of_labels_t=226~364.npy\")\n",
    "center_of_labels=np.load(r\"\\\\4-307-km\\p\\Tardigrade\\Tardigrada_mukumoto\\orig\\labels_raw_t=1-225\\center_of_labels_t001-225.npy\")\n"
   ]
  },
  {
   "cell_type": "code",
   "execution_count": null,
   "id": "4dbf13a5",
   "metadata": {},
   "outputs": [],
   "source": [
    "#ROI1-ROI2の距離を計算\n",
    "\n",
    "from scipy.spatial import distance\n",
    "\n",
    "csv_filename = r\"P:\\Tardigrade\\Tardigrada_mukumoto\\ana\\t=566~665\\tardigrade_t=566~665_L4leg_labels_distance_1-2.csv\"\n",
    "\n",
    "#You can change file name above.\n",
    "\n",
    "#cell_movement = center_of_labels\n",
    "#cell_movement = np.zeros((center_of_labels.shape[0],center_of_labels.shape[1]-1))\n",
    "cell_movement =np.zeros((center_of_labels.shape[0],4))\n",
    "print(center_of_labels.shape)\n",
    "label2_1_vector=np.zeros([center_of_labels.shape[0],3])\n",
    "label2_1_vector[:,0]=center_of_labels[:,1,0] - center_of_labels[:,0,0]\n",
    "label2_1_vector[:,1]=center_of_labels[:,1,1] - center_of_labels[:,0,1]\n",
    "label2_1_vector[:,2]=center_of_labels[:,1,2] - center_of_labels[:,0,2]\n",
    "\n",
    "print(label2_1_vector[1])\n",
    "for t in range(center_of_labels.shape[0]):\n",
    "\n",
    "    cell_position_t1 = center_of_labels[t,0]\n",
    "    cell_position_t2 = center_of_labels[t,1]\n",
    "    print(cell_position_t2)\n",
    "    print(cell_position_t1)\n",
    "    zx_center_of_labels_t1 = np.stack([cell_position_t1[0],cell_position_t1[2]],0)\n",
    "    zx_center_of_labels_t2 = np.stack([cell_position_t2[0],cell_position_t2[2]],0)\n",
    "\n",
    "    three_d_dist = distance.euclidean(cell_position_t1, cell_position_t2)\n",
    "    #xy_d_dist = distance.euclidean(cell_position_t1[1:2], cell_position_t2[1:2])\n",
    "    #xz_d_dist = distance.euclidean(zx_center_of_labels_t1, zx_center_of_labels_t2)\n",
    "    #yz_d_dist = distance.euclidean(cell_position_t1[0:1], cell_position_t2[0:1])\n",
    "\n",
    "    #xy_d_dist = distance.euclidean(cell_position_t1[:2],  cell_position_t2[:2])\n",
    "    #yz_d_dist = distance.euclidean(cell_position_t1[1:],  cell_position_t2[1:])\n",
    "\n",
    "    cell_movement[t, 0] = three_d_dist*0.4095\n",
    "    cell_movement[t, 1] = xy_d_dist*0.4095\n",
    "    cell_movement[t, 2] = xz_d_dist*0.4095\n",
    "    cell_movement[t, 3] = yz_d_dist*0.4095\n",
    "\n",
    "\n",
    "\n",
    "csv_filename = os.path.join(tracked_labels_path, csv_filename)\n",
    "timings = np.arange(1, cell_movement.shape[0]+1).reshape(-1, 1)\n",
    "movement_with_timings = np.concatenate((timings, cell_movement), axis=1)\n",
    "headers = ['timing'] + ['cell' + str(i) for i in range(1, cell_movement.shape[1])]\n",
    "np.savetxt(csv_filename, movement_with_timings, delimiter=',', fmt='%.3f', header=','.join(headers), comments='')\n",
    "print(f\"The cell movements have been saved in {csv_filename}\")"
   ]
  }
 ],
 "metadata": {
  "kernelspec": {
   "display_name": "Python (stardist)",
   "language": "python",
   "name": "stardist"
  },
  "language_info": {
   "codemirror_mode": {
    "name": "ipython",
    "version": 3
   },
   "file_extension": ".py",
   "mimetype": "text/x-python",
   "name": "python",
   "nbconvert_exporter": "python",
   "pygments_lexer": "ipython3",
   "version": "3.7.9"
  }
 },
 "nbformat": 4,
 "nbformat_minor": 5
}
