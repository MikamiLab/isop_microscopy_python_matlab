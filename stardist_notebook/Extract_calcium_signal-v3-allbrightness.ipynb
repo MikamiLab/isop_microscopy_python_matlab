{
 "cells": [
  {
   "cell_type": "markdown",
   "metadata": {},
   "source": [
    "## A. Import packages"
   ]
  },
  {
   "cell_type": "code",
   "execution_count": 1,
   "metadata": {},
   "outputs": [
    {
     "ename": "ModuleNotFoundError",
     "evalue": "No module named 'CellTracker'",
     "output_type": "error",
     "traceback": [
      "\u001b[1;31m---------------------------------------------------------------------------\u001b[0m",
      "\u001b[1;31mModuleNotFoundError\u001b[0m                       Traceback (most recent call last)",
      "\u001b[1;32m~\\AppData\\Local\\Temp\\ipykernel_3708104\\2377863758.py\u001b[0m in \u001b[0;36m<module>\u001b[1;34m\u001b[0m\n\u001b[0;32m      4\u001b[0m \u001b[1;32mfrom\u001b[0m \u001b[0mglob\u001b[0m \u001b[1;32mimport\u001b[0m \u001b[0mglob\u001b[0m\u001b[1;33m\u001b[0m\u001b[1;33m\u001b[0m\u001b[0m\n\u001b[0;32m      5\u001b[0m \u001b[1;32mfrom\u001b[0m \u001b[0mscipy\u001b[0m \u001b[1;32mimport\u001b[0m \u001b[0mndimage\u001b[0m\u001b[1;33m\u001b[0m\u001b[1;33m\u001b[0m\u001b[0m\n\u001b[1;32m----> 6\u001b[1;33m \u001b[1;32mfrom\u001b[0m \u001b[0mCellTracker\u001b[0m\u001b[1;33m.\u001b[0m\u001b[0mstardistwrapper\u001b[0m \u001b[1;32mimport\u001b[0m \u001b[0mload_2d_slices_at_time\u001b[0m\u001b[1;33m\u001b[0m\u001b[1;33m\u001b[0m\u001b[0m\n\u001b[0m\u001b[0;32m      7\u001b[0m \u001b[1;33m\u001b[0m\u001b[0m\n\u001b[0;32m      8\u001b[0m \u001b[1;32mdef\u001b[0m \u001b[0mextract_activities\u001b[0m\u001b[1;33m(\u001b[0m\u001b[0mtracked_labels_path\u001b[0m\u001b[1;33m:\u001b[0m \u001b[0mstr\u001b[0m\u001b[1;33m,\u001b[0m \u001b[0mraw_path\u001b[0m\u001b[1;33m:\u001b[0m \u001b[0mstr\u001b[0m \u001b[1;33m|\u001b[0m \u001b[0mdict\u001b[0m\u001b[1;33m,\u001b[0m \u001b[0moffset_value\u001b[0m\u001b[1;33m:\u001b[0m \u001b[0mfloat\u001b[0m \u001b[1;33m=\u001b[0m \u001b[1;36m100.0\u001b[0m\u001b[1;33m,\u001b[0m \u001b[0mdo_normalize\u001b[0m\u001b[1;33m:\u001b[0m \u001b[0mbool\u001b[0m \u001b[1;33m=\u001b[0m \u001b[1;32mFalse\u001b[0m\u001b[1;33m)\u001b[0m\u001b[1;33m:\u001b[0m\u001b[1;33m\u001b[0m\u001b[1;33m\u001b[0m\u001b[0m\n",
      "\u001b[1;31mModuleNotFoundError\u001b[0m: No module named 'CellTracker'"
     ]
    }
   ],
   "source": [
    "import numpy as np\n",
    "import re\n",
    "from pathlib import Path\n",
    "from glob import glob\n",
    "from scipy import ndimage\n",
    "from CellTracker.stardistwrapper import load_2d_slices_at_time\n",
    "\n",
    "def extract_activities(tracked_labels_path: str, raw_path: str | dict, offset_value: float = 100.0, do_normalize: bool = False):\n",
    "    tracked_labels_path = Path(tracked_labels_path)\n",
    "    filenames = sorted(glob(str(tracked_labels_path / \"labels_t=1-224_r20_v2_t*_z*.tif\")))\n",
    "    assert len(filenames) > 0, f\"No label files were found in {tracked_labels_path}\"\n",
    "\n",
    "    # === t番号だけを抽出しユニークにソート ===\n",
    "    t_numbers = sorted(set(\n",
    "        int(re.search(r't(\\d{6})', f).group(1))\n",
    "        for f in filenames if re.search(r't(\\d{6})', f)\n",
    "    ))\n",
    "\n",
    "    activity_matrix = None\n",
    "    for idx, t in enumerate(t_numbers):\n",
    "        print(f\"t={t}...\", end=\"\\r\")\n",
    "        try:\n",
    "            raw = load_2d_slices_at_time(raw_path, t=t, do_normalize=do_normalize)\n",
    "        except FileNotFoundError:\n",
    "            print(f\"Warning: Raw images at t={t} cannot be loaded! Stop calculation!\")\n",
    "            break\n",
    "\n",
    "        try:\n",
    "            labels_img = load_2d_slices_at_time(str(tracked_labels_path / \"labels_t=1-224_r20_v2_t%03i_z*.tif\"), t=t, do_normalize=False)\n",
    "        except FileNotFoundError:\n",
    "            print(f\"Warning: Label images at t={t} cannot be loaded!\")\n",
    "            if idx == 0:\n",
    "                print(\"Warning: stop calculation!\")\n",
    "                return None\n",
    "            else:\n",
    "                print(f\"Warning: skip volume {t}!\")\n",
    "                activity_matrix[idx, :] = np.nan\n",
    "                continue\n",
    "\n",
    "        if activity_matrix is None:\n",
    "            cell_num = int(np.max(labels_img))\n",
    "            activity_matrix = np.zeros((len(t_numbers), cell_num))\n",
    "\n",
    "        found_bbox = ndimage.find_objects(labels_img, max_label=cell_num)\n",
    "        for label in range(1, cell_num + 1):\n",
    "            bbox = found_bbox[label - 1]\n",
    "            if bbox is not None:\n",
    "                intensity_values = raw[bbox][labels_img[bbox] == label] - offset_value\n",
    "                intensity_values = intensity_values[intensity_values > 0]\n",
    "                activity_matrix[idx, label - 1] = np.mean(intensity_values) if len(intensity_values) > 0 else np.nan\n",
    "            else:\n",
    "                activity_matrix[idx, label - 1] = np.nan\n",
    "\n",
    "    return activity_matrix\n"
   ]
  },
  {
   "cell_type": "code",
   "execution_count": null,
   "metadata": {},
   "outputs": [],
   "source": [
    "import os\n",
    "import numpy as np\n",
    "\n",
    "# === 共通設定 ===\n",
    "path_results = r\"P:\\Tardigrade\\Tardigrada_mukumoto\\ana\\t=517~565all\"\n",
    "tracked_labels_path = r\"P:\\Tardigrade\\Tardigrada_mukumoto\\orig\\raw_t=517-565\\labels_517-565\"\n",
    "os.makedirs(path_results, exist_ok=True)\n",
    "\n",
    "# === 1. mCherry チャネル（channel 1） ===\n",
    "raw_path_ch1 = {\n",
    "    \"h5_file\": r\"P:\\Tardigrade\\Tardigrada_mukumoto\\orig\\raw_t=517-565\\raw_t=517-565.h5\",\n",
    "    \"dset\": \"default\",\n",
    "    \"channel\": 0\n",
    "}\n",
    "activity_ch1 = extract_activities(\n",
    "    tracked_labels_path=tracked_labels_path,\n",
    "    raw_path=raw_path_ch1,\n",
    "    offset_value=100.0,\n",
    "    do_normalize=False\n",
    ")\n",
    "csv_ch1 = os.path.join(path_results, \"tardigrade_t=517-565_signals_mCherry_offset100.csv\")\n",
    "timings_ch1 = np.arange(1, activity_ch1.shape[0] + 1).reshape(-1, 1)\n",
    "activity_with_timings_ch1 = np.concatenate((timings_ch1, activity_ch1), axis=1)\n",
    "headers_ch1 = ['timing'] + ['cell' + str(i) for i in range(1, activity_ch1.shape[1] + 1)]\n",
    "np.savetxt(csv_ch1, activity_with_timings_ch1, delimiter=',', fmt='%.3f', header=','.join(headers_ch1), comments='')\n",
    "print(f\"[✓] mCherry saved to: {csv_ch1}\")\n",
    "\n",
    "# === 2. GCaMP チャネル（channel 2） ===\n",
    "raw_path_ch2 = {\n",
    "    \"h5_file\": r\"P:\\Tardigrade\\Tardigrada_mukumoto\\orig\\raw_t=517-565\\raw_t=517-565.h5\",\n",
    "    \"dset\": \"default\",\n",
    "    \"channel\": 1\n",
    "}\n",
    "activity_ch2 = extract_activities(\n",
    "    tracked_labels_path=tracked_labels_path,\n",
    "    raw_path=raw_path_ch2,\n",
    "    offset_value=100.0,\n",
    "    do_normalize=False\n",
    ")\n",
    "csv_ch2 = os.path.join(path_results, \"tardigrade_t=517-565_signals_GCaMP_offset100.csv\")\n",
    "timings_ch2 = np.arange(1, activity_ch2.shape[0] + 1).reshape(-1, 1)\n",
    "activity_with_timings_ch2 = np.concatenate((timings_ch2, activity_ch2), axis=1)\n",
    "headers_ch2 = ['timing'] + ['cell' + str(i) for i in range(1, activity_ch2.shape[1] + 1)]\n",
    "np.savetxt(csv_ch2, activity_with_timings_ch2, delimiter=',', fmt='%.3f', header=','.join(headers_ch2), comments='')\n",
    "print(f\"[✓] GCaMP saved to: {csv_ch2}\")"
   ]
  },
  {
   "cell_type": "code",
   "execution_count": 1,
   "metadata": {
    "ExecuteTime": {
     "end_time": "2021-06-14T04:31:33.940881Z",
     "start_time": "2021-06-14T04:31:33.690724Z"
    },
    "scrolled": true
   },
   "outputs": [
    {
     "data": {
      "text/html": [
       "<style>.container { width:95% !important; }</style>"
      ],
      "text/plain": [
       "<IPython.core.display.HTML object>"
      ]
     },
     "metadata": {},
     "output_type": "display_data"
    }
   ],
   "source": [
    "from __future__ import annotations\n",
    "\n",
    "import os\n",
    "import warnings\n",
    "warnings.filterwarnings('ignore')\n",
    "from IPython.core.display import display, HTML\n",
    "display(HTML(\"<style>.container { width:95% !important; }</style>\"))\n",
    "%matplotlib inline\n",
    "import numpy as np\n",
    "\n",
    "\n",
    "\n",
    "import re\n",
    "from glob import glob\n",
    "from pathlib import Path\n",
    "from typing import List, Tuple\n",
    "\n",
    "import numpy as np\n",
    "\n",
    "from matplotlib.patches import ConnectionPatch\n",
    "\n",
    "from scipy import ndimage\n",
    "\n",
    "\n",
    "from CellTracker.stardistwrapper import load_2d_slices_at_time\n"
   ]
  },
  {
   "cell_type": "code",
   "execution_count": null,
   "metadata": {},
   "outputs": [
    {
     "data": {
      "text/html": [
       "<style>.container { width:95% !important; }</style>"
      ],
      "text/plain": [
       "<IPython.core.display.HTML object>"
      ]
     },
     "metadata": {},
     "output_type": "display_data"
    },
    {
     "ename": "ModuleNotFoundError",
     "evalue": "No module named 'stardist'",
     "output_type": "error",
     "traceback": [
      "\u001b[1;31m---------------------------------------------------------------------------\u001b[0m\n",
      "\u001b[1;31mModuleNotFoundError\u001b[0m                       Traceback (most recent call last)\n",
      "\u001b[1;32m~\\AppData\\Local\\Temp\\ipykernel_2029588\\2227592860.py\u001b[0m in \u001b[0;36m<module>\u001b[1;34m\u001b[0m\n",
      "\u001b[0;32m     23\u001b[0m \u001b[1;33m\u001b[0m\u001b[0m\n",
      "\u001b[0;32m     24\u001b[0m \u001b[1;33m\u001b[0m\u001b[0m\n",
      "\u001b[1;32m---> 25\u001b[1;33m \u001b[1;32mfrom\u001b[0m \u001b[0mCellTracker\u001b[0m\u001b[1;33m.\u001b[0m\u001b[0mstardistwrapper\u001b[0m \u001b[1;32mimport\u001b[0m \u001b[0mload_2d_slices_at_time\u001b[0m\u001b[1;33m\u001b[0m\u001b[1;33m\u001b[0m\u001b[0m\n",
      "\u001b[0m\n",
      "\u001b[1;32m\\\\4-307-KM\\3DeeCellTracker\\stardist_notebook\\CellTracker\\stardistwrapper.py\u001b[0m in \u001b[0;36m<module>\u001b[1;34m\u001b[0m\n",
      "\u001b[0;32m     19\u001b[0m \u001b[1;32mfrom\u001b[0m \u001b[0mcsbdeep\u001b[0m\u001b[1;33m.\u001b[0m\u001b[0mutils\u001b[0m \u001b[1;32mimport\u001b[0m \u001b[0mPath\u001b[0m\u001b[1;33m,\u001b[0m \u001b[0mnormalize\u001b[0m\u001b[1;33m\u001b[0m\u001b[1;33m\u001b[0m\u001b[0m\n",
      "\u001b[0;32m     20\u001b[0m \u001b[1;32mfrom\u001b[0m \u001b[0mnumpy\u001b[0m \u001b[1;32mimport\u001b[0m \u001b[0mndarray\u001b[0m\u001b[1;33m\u001b[0m\u001b[1;33m\u001b[0m\u001b[0m\n",
      "\u001b[1;32m---> 21\u001b[1;33m \u001b[1;32mfrom\u001b[0m \u001b[0mstardist\u001b[0m \u001b[1;32mimport\u001b[0m \u001b[0mRays_GoldenSpiral\u001b[0m\u001b[1;33m\u001b[0m\u001b[1;33m\u001b[0m\u001b[0m\n",
      "\u001b[0m\u001b[0;32m     22\u001b[0m \u001b[1;32mfrom\u001b[0m \u001b[0mstardist\u001b[0m \u001b[1;32mimport\u001b[0m \u001b[0mfill_label_holes\u001b[0m\u001b[1;33m,\u001b[0m \u001b[0mrandom_label_cmap\u001b[0m\u001b[1;33m,\u001b[0m \u001b[0mcalculate_extents\u001b[0m\u001b[1;33m,\u001b[0m \u001b[0mgputools_available\u001b[0m\u001b[1;33m\u001b[0m\u001b[1;33m\u001b[0m\u001b[0m\n",
      "\u001b[0;32m     23\u001b[0m \u001b[1;32mfrom\u001b[0m \u001b[0mstardist\u001b[0m\u001b[1;33m.\u001b[0m\u001b[0mmodels\u001b[0m \u001b[1;32mimport\u001b[0m \u001b[0mConfig3D\u001b[0m\u001b[1;33m\u001b[0m\u001b[1;33m\u001b[0m\u001b[0m\n",
      "\n",
      "\u001b[1;31mModuleNotFoundError\u001b[0m: No module named 'stardist'"
     ]
    }
   ],
   "source": [
    "from __future__ import annotations\n",
    "\n",
    "import os\n",
    "import warnings\n",
    "warnings.filterwarnings('ignore')\n",
    "from IPython.core.display import display, HTML\n",
    "display(HTML(\"<style>.container { width:95% !important; }</style>\"))\n",
    "%matplotlib inline\n",
    "import numpy as np\n",
    "\n",
    "\n",
    "\n",
    "import re\n",
    "from glob import glob\n",
    "from pathlib import Path\n",
    "from typing import List, Tuple\n",
    "\n",
    "import numpy as np\n",
    "\n",
    "from matplotlib.patches import ConnectionPatch\n",
    "\n",
    "from scipy import ndimage\n",
    "\n",
    "\n",
    "from CellTracker.stardistwrapper import load_2d_slices_at_time\n"
   ]
  },
  {
   "cell_type": "markdown",
   "metadata": {},
   "source": [
    "## E. Extract activities from tracked cells"
   ]
  },
  {
   "cell_type": "code",
   "execution_count": 2,
   "metadata": {},
   "outputs": [],
   "source": [
    "def activities(tracked_labels_path :str, raw_path: str | dict, discard_ratio: float = 0.1, do_normalize=False):\n",
    "        tracked_labels_path=Path(tracked_labels_path)\n",
    "        filenames = glob(str(tracked_labels_path / \"*t*.tif\"))\n",
    "        assert len(filenames) > 0, f\"No labels files were found in {tracked_labels_path / '*t*.tif'}\"\n",
    "        numbers = [int(re.findall(r\"t(\\d+)\", f)[0]) for f in filenames]\n",
    "        smallest_number = min(numbers)\n",
    "        largest_number = max(numbers)\n",
    "\n",
    "        for t in range(smallest_number, largest_number + 1):\n",
    "            print(f\"t={t}...\", end=\"\\r\")\n",
    "            try:\n",
    "                # Load 2D slices at time t\n",
    "                raw = load_2d_slices_at_time(raw_path, t=t, do_normalize=do_normalize)\n",
    "            except FileNotFoundError:\n",
    "                # Handle missing image files\n",
    "                print(f\"Warning: Raw images at t={t - 1} cannot be loaded! Stop calculation!\")\n",
    "                break\n",
    "\n",
    "            try:\n",
    "                # Load 2D slices at time t\n",
    "                labels_img = load_2d_slices_at_time(str(tracked_labels_path / \"*t%06i*.tif\"), t=t, do_normalize=False)\n",
    "            except FileNotFoundError:\n",
    "                # Handle missing image files\n",
    "                print(f\"Warning: Label images at t={t - 1} cannot be loaded!\")\n",
    "                if t == smallest_number:\n",
    "                    print(\"Warning: stop calculation!\")\n",
    "                    break\n",
    "                else:\n",
    "                    print(f\"Warning: skip volume {t - 1}!\")\n",
    "                    activities[t - smallest_number, :] = np.nan\n",
    "                    continue\n",
    "\n",
    "            if t == smallest_number:\n",
    "                cell_num = np.max(labels_img)\n",
    "                activities = np.zeros((largest_number - smallest_number + 1, cell_num))\n",
    "\n",
    "            per = (1 - discard_ratio) * 100\n",
    "\n",
    "            found_bbox = ndimage.find_objects(labels_img, max_label=cell_num)\n",
    "            for label in range(1, cell_num + 1):\n",
    "                bbox = found_bbox[label - 1]\n",
    "                if found_bbox[label - 1] is not None:\n",
    "                    intensity_label_i = raw[bbox][labels_img[bbox] == label]\n",
    "                    threshold = np.percentile(intensity_label_i, per)\n",
    "                    activities[t - smallest_number, label - 1] = np.mean(\n",
    "                        intensity_label_i[intensity_label_i > threshold])\n",
    "                else:\n",
    "                    activities[t - smallest_number, label - 1] = np.nan\n",
    "\n",
    "        return activities"
   ]
  },
  {
   "cell_type": "code",
   "execution_count": 6,
   "metadata": {},
   "outputs": [],
   "source": [
    "def activities(tracked_labels_path :str, raw_path: str | dict, do_normalize=False):\n",
    "    tracked_labels_path = Path(tracked_labels_path)\n",
    "    filenames = glob(str(tracked_labels_path / \"*t*.tif\"))\n",
    "    assert len(filenames) > 0, f\"No labels files were found in {tracked_labels_path / '*t*.tif'}\"\n",
    "    numbers = [int(re.findall(r\"t(\\d+)\", f)[0]) for f in filenames]\n",
    "    smallest_number = min(numbers)\n",
    "    largest_number = max(numbers)\n",
    "\n",
    "    for t in range(smallest_number, largest_number + 1):\n",
    "        print(f\"t={t}...\", end=\"\\r\")\n",
    "        try:\n",
    "            # Load raw 2D volume and subtract 100-count offset\n",
    "            raw = load_2d_slices_at_time(raw_path, t=t, do_normalize=do_normalize)\n",
    "            raw = raw.astype(np.float32)  # 型変換でunderflow回避\n",
    "            raw = raw - 100\n",
    "            #raw = np.maximum(raw, 0)# オフセットによる負値を0に\n",
    "\n",
    "        except FileNotFoundError:\n",
    "            print(f\"Warning: Raw images at t={t - 1} cannot be loaded! Stop calculation!\")\n",
    "            break\n",
    "\n",
    "        try:\n",
    "            labels_img = load_2d_slices_at_time(str(tracked_labels_path / \"*t%03i*.tif\"), t=t, do_normalize=False)\n",
    "        except FileNotFoundError:\n",
    "            print(f\"Warning: Label images at t={t - 1} cannot be loaded!\")\n",
    "            if t == smallest_number:\n",
    "                print(\"Warning: stop calculation!\")\n",
    "                break\n",
    "            else:\n",
    "                print(f\"Warning: skip volume {t - 1}!\")\n",
    "                activities[t - smallest_number, :] = np.nan\n",
    "                continue\n",
    "\n",
    "        if t == smallest_number:\n",
    "            cell_num = np.max(labels_img)\n",
    "            activities = np.zeros((largest_number - smallest_number + 1, cell_num))\n",
    "\n",
    "        found_bbox = ndimage.find_objects(labels_img, max_label=cell_num)\n",
    "        for label in range(1, cell_num + 1):\n",
    "            bbox = found_bbox[label - 1]\n",
    "            if bbox is not None:\n",
    "                intensity_label_i = raw[bbox][labels_img[bbox] == label]\n",
    "                activities[t - smallest_number, label - 1] = np.mean(intensity_label_i)  # ② 全ボクセル平均\n",
    "            else:\n",
    "                activities[t - smallest_number, label - 1] = np.nan\n",
    "\n",
    "    return activities\n"
   ]
  },
  {
   "cell_type": "markdown",
   "metadata": {},
   "source": []
  },
  {
   "cell_type": "markdown",
   "metadata": {},
   "source": [
    "### Extract activities\n",
    "\n",
    "### Parameters\n",
    "- `raw_path`: A string specifying the file path to the raw image to extract the activities. The image data should be in TIFF format.\n",
    "\n",
    "### Notes\n",
    "> This Code Block extracts activities from 3D time-lapse images, based on tracking results."
   ]
  },
  {
   "cell_type": "code",
   "execution_count": 8,
   "metadata": {},
   "outputs": [
    {
     "name": "stdout",
     "output_type": "stream",
     "text": [
      "t=1...\r"
     ]
    },
    {
     "ename": "TypeError",
     "evalue": "'numpy.float32' object cannot be interpreted as an integer",
     "output_type": "error",
     "traceback": [
      "\u001b[1;31m---------------------------------------------------------------------------\u001b[0m",
      "\u001b[1;31mTypeError\u001b[0m                                 Traceback (most recent call last)",
      "\u001b[1;32m~\\AppData\\Local\\Temp\\ipykernel_477120\\3797510296.py\u001b[0m in \u001b[0;36m<module>\u001b[1;34m\u001b[0m\n\u001b[0;32m      6\u001b[0m \u001b[0mtracked_labels_path\u001b[0m \u001b[1;33m=\u001b[0m\u001b[1;34mr\"H:\\kumamushi-new\\t=0-224\"\u001b[0m\u001b[1;33m\u001b[0m\u001b[1;33m\u001b[0m\u001b[0m\n\u001b[0;32m      7\u001b[0m \u001b[1;33m\u001b[0m\u001b[0m\n\u001b[1;32m----> 8\u001b[1;33m \u001b[0mactivities_ch1\u001b[0m \u001b[1;33m=\u001b[0m \u001b[0mactivities\u001b[0m\u001b[1;33m(\u001b[0m\u001b[0mtracked_labels_path\u001b[0m \u001b[1;33m=\u001b[0m \u001b[0mtracked_labels_path\u001b[0m\u001b[1;33m,\u001b[0m \u001b[0mraw_path\u001b[0m\u001b[1;33m=\u001b[0m\u001b[0mraw_path\u001b[0m\u001b[1;33m)\u001b[0m\u001b[1;33m\u001b[0m\u001b[1;33m\u001b[0m\u001b[0m\n\u001b[0m",
      "\u001b[1;32m~\\AppData\\Local\\Temp\\ipykernel_477120\\750771799.py\u001b[0m in \u001b[0;36mactivities\u001b[1;34m(tracked_labels_path, raw_path, do_normalize)\u001b[0m\n\u001b[0;32m     34\u001b[0m         \u001b[1;32mif\u001b[0m \u001b[0mt\u001b[0m \u001b[1;33m==\u001b[0m \u001b[0msmallest_number\u001b[0m\u001b[1;33m:\u001b[0m\u001b[1;33m\u001b[0m\u001b[1;33m\u001b[0m\u001b[0m\n\u001b[0;32m     35\u001b[0m             \u001b[0mcell_num\u001b[0m \u001b[1;33m=\u001b[0m \u001b[0mnp\u001b[0m\u001b[1;33m.\u001b[0m\u001b[0mmax\u001b[0m\u001b[1;33m(\u001b[0m\u001b[0mlabels_img\u001b[0m\u001b[1;33m)\u001b[0m\u001b[1;33m\u001b[0m\u001b[1;33m\u001b[0m\u001b[0m\n\u001b[1;32m---> 36\u001b[1;33m             \u001b[0mactivities\u001b[0m \u001b[1;33m=\u001b[0m \u001b[0mnp\u001b[0m\u001b[1;33m.\u001b[0m\u001b[0mzeros\u001b[0m\u001b[1;33m(\u001b[0m\u001b[1;33m(\u001b[0m\u001b[0mlargest_number\u001b[0m \u001b[1;33m-\u001b[0m \u001b[0msmallest_number\u001b[0m \u001b[1;33m+\u001b[0m \u001b[1;36m1\u001b[0m\u001b[1;33m,\u001b[0m \u001b[0mcell_num\u001b[0m\u001b[1;33m)\u001b[0m\u001b[1;33m)\u001b[0m\u001b[1;33m\u001b[0m\u001b[1;33m\u001b[0m\u001b[0m\n\u001b[0m\u001b[0;32m     37\u001b[0m \u001b[1;33m\u001b[0m\u001b[0m\n\u001b[0;32m     38\u001b[0m         \u001b[0mfound_bbox\u001b[0m \u001b[1;33m=\u001b[0m \u001b[0mndimage\u001b[0m\u001b[1;33m.\u001b[0m\u001b[0mfind_objects\u001b[0m\u001b[1;33m(\u001b[0m\u001b[0mlabels_img\u001b[0m\u001b[1;33m,\u001b[0m \u001b[0mmax_label\u001b[0m\u001b[1;33m=\u001b[0m\u001b[0mcell_num\u001b[0m\u001b[1;33m)\u001b[0m\u001b[1;33m\u001b[0m\u001b[1;33m\u001b[0m\u001b[0m\n",
      "\u001b[1;31mTypeError\u001b[0m: 'numpy.float32' object cannot be interpreted as an integer"
     ]
    }
   ],
   "source": [
    "raw_path = {\"h5_file\":r\"\\\\4-307-km\\p\\Tardigrade\\Tardigrada_mukumoto\\orig\\raw_t=1-225\\raw_t=1-225.h5\",\n",
    "            \"dset\": \"default\",\n",
    "            \"channel\": 1}\n",
    "# raw_path = r\"P:\\Ascidiacea\\orig\\241025ホヤ\\20220223-170215ASAPaiviatif_sequence\"\n",
    "\n",
    "tracked_labels_path =r\"H:\\kumamushi-new\\t=0-224\"\n",
    "\n",
    "activities_ch1 = activities(tracked_labels_path = tracked_labels_path, raw_path=raw_path)"
   ]
  },
  {
   "cell_type": "markdown",
   "metadata": {},
   "source": [
    "### Save activities into csv"
   ]
  },
  {
   "cell_type": "code",
   "execution_count": 4,
   "metadata": {},
   "outputs": [
    {
     "name": "stdout",
     "output_type": "stream",
     "text": [
      "The cell activities have been saved in P:\\Tardigrade\\Tardigrada_mukumoto\\ana\\t=566~665\\tardigrade_t=566-665_signals_GCaMP_2.csv\n"
     ]
    }
   ],
   "source": [
    "csv_filename = \"tardigrade_t=566-665_signals_GCaMP_2.csv\"\n",
    "path_results=r\"P:\\Tardigrade\\Tardigrada_mukumoto\\ana\\t=566~665\"\n",
    "\n",
    "\n",
    "csv_filename = os.path.join(path_results, csv_filename)\n",
    "timings = np.arange(1, activities.shape[0]+1).reshape(-1, 1)\n",
    "activities_with_timings = np.concatenate((timings, activities), axis=1)\n",
    "headers = ['timing'] + ['cell' + str(i) for i in range(1, activities.shape[1]+1)]\n",
    "np.savetxt(csv_filename, activities_with_timings, delimiter=',', fmt='%.3f', header=','.join(headers), comments='')\n",
    "print(f\"The cell activities have been saved in {csv_filename}\")\n",
    "\n",
    "#print(activities[2][3])\n",
    "\n",
    "#np.save(\"activity_1220\",activities )\n"
   ]
  },
  {
   "cell_type": "code",
   "execution_count": null,
   "metadata": {},
   "outputs": [],
   "source": []
  },
  {
   "cell_type": "markdown",
   "metadata": {},
   "source": [
    "## 細胞間の移動ベクトルの算出"
   ]
  },
  {
   "cell_type": "code",
   "execution_count": null,
   "metadata": {},
   "outputs": [],
   "source": [
    "from scipy.spatial import distance\n",
    "cell_movement = np.zeros((center_of_labels.shape[0],center_of_labels.shape[1],3),)\n",
    "\n",
    "for t in range(center_of_labels.shape[0]-1):\n",
    "    for label in range(center_of_labels.shape[1]):\n",
    "        if np.isnan(center_of_labels[t+1,label]).any():\n",
    "            center_of_labels[t+1,label] = center_of_labels[t,label]\n",
    "        cell_position_t1 = center_of_labels[t,label]\n",
    "        cell_position_t2 = center_of_labels[t+1,label]\n",
    "        x = cell_position_t2[0]-cell_position_t1[0]\n",
    "        y = cell_position_t2[1]-cell_position_t1[1]\n",
    "        z = cell_position_t2[2]-cell_position_t1[2]\n",
    "        cell_movement[t, label,0] = x\n",
    "        cell_movement[t, label,1] = y\n",
    "        cell_movement[t, label,2] = z\n"
   ]
  },
  {
   "cell_type": "code",
   "execution_count": null,
   "metadata": {},
   "outputs": [],
   "source": [
    "csv_filename = \"cell_movement_vectors.csv\"\n",
    "\n",
    "csv_filename = os.path.join(path_results, csv_filename)\n",
    "\n",
    "print(f\"The cell movements have been saved in {csv_filename}\")\n",
    "np.savetxt(csv_filename, cell_movement.reshape(cell_movement.shape[0], -1), delimiter=',', fmt='%d')"
   ]
  },
  {
   "cell_type": "code",
   "execution_count": 1,
   "metadata": {},
   "outputs": [],
   "source": [
    "#t=79のみ\n",
    "import h5py\n",
    "import numpy as np\n",
    "from scipy import ndimage\n"
   ]
  },
  {
   "cell_type": "code",
   "execution_count": 4,
   "metadata": {},
   "outputs": [
    {
     "name": "stdout",
     "output_type": "stream",
     "text": [
      "Detected 2 labeled cells\n",
      "Cell\tGCaMP6s\tmCherry\n",
      "01\t142.97\t171.59\n",
      "02\t144.30\t165.63\n"
     ]
    }
   ],
   "source": [
    "import h5py\n",
    "import numpy as np\n",
    "from scipy import ndimage\n",
    "\n",
    "# === ファイルパス ===\n",
    "gcamp_path = r\"\\\\4-307-km\\p\\Tardigrade\\Tardigrada_mukumoto\\orig\\raw_t=0~225\\raw-label-t=79_000.h5\"\n",
    "mcherry_path = r\"\\\\4-307-km\\p\\Tardigrade\\Tardigrada_mukumoto\\orig\\raw_t=0~225\\raw-label-t=79_001.h5\"\n",
    "label_path = r\"\\\\4-307-km\\p\\Tardigrade\\Tardigrada_mukumoto\\orig\\raw_t=0~225\\raw-label-t=79_002.h5\"\n",
    "\n",
    "# === HDF5ファイルからデータ読み込み ===\n",
    "with h5py.File(gcamp_path, 'r') as f:\n",
    "    gcamp_img = f['data'][()]\n",
    "with h5py.File(mcherry_path, 'r') as f:\n",
    "    mcherry_img = f['data'][()]\n",
    "with h5py.File(label_path, 'r') as f:\n",
    "    label_img = f['data'][()].astype(np.int32)\n",
    "\n",
    "# === ラベル数の確認 ===\n",
    "cell_num = np.max(label_img)\n",
    "print(f\"Detected {cell_num} labeled cells\")\n",
    "\n",
    "# === 活動量抽出関数 ===\n",
    "def extract_activity(raw_img, labels_img, discard_ratio=0.5):\n",
    "    activities = np.zeros(cell_num)\n",
    "    found_bbox = ndimage.find_objects(labels_img, max_label=cell_num)\n",
    "    per = (1 - discard_ratio) * 100\n",
    "    for label in range(1, cell_num + 1):\n",
    "        bbox = found_bbox[label - 1]\n",
    "        if bbox is not None:\n",
    "            intensity_label_i = raw_img[bbox][labels_img[bbox] == label]\n",
    "            threshold = np.percentile(intensity_label_i, per)\n",
    "            activities[label - 1] = np.mean(intensity_label_i[intensity_label_i > threshold])\n",
    "        else:\n",
    "            activities[label - 1] = np.nan\n",
    "    return activities\n",
    "\n",
    "# === 抽出実行 ===\n",
    "gcamp_activities = extract_activity(gcamp_img, label_img, discard_ratio=0.5)\n",
    "mcherry_activities = extract_activity(mcherry_img, label_img, discard_ratio=0.5)\n",
    "\n",
    "# === 結果表示 ===\n",
    "print(\"Cell\\tGCaMP6s\\tmCherry\")\n",
    "for i, (g, m) in enumerate(zip(gcamp_activities, mcherry_activities), start=1):\n",
    "    print(f\"{i:02d}\\t{g:.2f}\\t{m:.2f}\")\n"
   ]
  },
  {
   "cell_type": "code",
   "execution_count": 3,
   "metadata": {},
   "outputs": [
    {
     "name": "stdout",
     "output_type": "stream",
     "text": [
      "Contents of \\\\4-307-km\\p\\Tardigrade\\Tardigrada_mukumoto\\orig\\raw_t=0~225\\raw-label-t=79_000.h5:\n",
      "  data - <class 'h5py._hl.dataset.Dataset'>\n",
      "Contents of \\\\4-307-km\\p\\Tardigrade\\Tardigrada_mukumoto\\orig\\raw_t=0~225\\raw-label-t=79_001.h5:\n",
      "  data - <class 'h5py._hl.dataset.Dataset'>\n",
      "Contents of \\\\4-307-km\\p\\Tardigrade\\Tardigrada_mukumoto\\orig\\raw_t=0~225\\raw-label-t=79_002.h5:\n",
      "  data - <class 'h5py._hl.dataset.Dataset'>\n"
     ]
    }
   ],
   "source": [
    "import h5py\n",
    "\n",
    "def list_h5_keys(filepath):\n",
    "    with h5py.File(filepath, 'r') as f:\n",
    "        print(f\"Contents of {filepath}:\")\n",
    "        f.visititems(lambda name, obj: print(f\"  {name} - {type(obj)}\"))\n",
    "\n",
    "list_h5_keys(r\"\\\\4-307-km\\p\\Tardigrade\\Tardigrada_mukumoto\\orig\\raw_t=0~225\\raw-label-t=79_000.h5\")\n",
    "list_h5_keys(r\"\\\\4-307-km\\p\\Tardigrade\\Tardigrada_mukumoto\\orig\\raw_t=0~225\\raw-label-t=79_001.h5\")\n",
    "list_h5_keys(r\"\\\\4-307-km\\p\\Tardigrade\\Tardigrada_mukumoto\\orig\\raw_t=0~225\\raw-label-t=79_002.h5\")\n",
    "\n",
    "\n"
   ]
  }
 ],
 "metadata": {
  "kernelspec": {
   "display_name": "Python (stardist)",
   "language": "python",
   "name": "stardist"
  },
  "language_info": {
   "codemirror_mode": {
    "name": "ipython",
    "version": 3
   },
   "file_extension": ".py",
   "mimetype": "text/x-python",
   "name": "python",
   "nbconvert_exporter": "python",
   "pygments_lexer": "ipython3",
   "version": "3.7.9"
  },
  "toc": {
   "base_numbering": 1,
   "nav_menu": {},
   "number_sections": true,
   "sideBar": true,
   "skip_h1_title": false,
   "title_cell": "Table of Contents",
   "title_sidebar": "Contents",
   "toc_cell": false,
   "toc_position": {},
   "toc_section_display": true,
   "toc_window_display": false
  },
  "varInspector": {
   "cols": {
    "lenName": 16,
    "lenType": 16,
    "lenVar": 40
   },
   "kernels_config": {
    "python": {
     "delete_cmd_postfix": "",
     "delete_cmd_prefix": "del ",
     "library": "var_list.py",
     "varRefreshCmd": "print(var_dic_list())"
    },
    "r": {
     "delete_cmd_postfix": ") ",
     "delete_cmd_prefix": "rm(",
     "library": "var_list.r",
     "varRefreshCmd": "cat(var_dic_list()) "
    }
   },
   "position": {
    "height": "521.183px",
    "left": "897px",
    "right": "20px",
    "top": "146px",
    "width": "539px"
   },
   "types_to_exclude": [
    "module",
    "function",
    "builtin_function_or_method",
    "instance",
    "_Feature"
   ],
   "window_display": false
  }
 },
 "nbformat": 4,
 "nbformat_minor": 4
}
