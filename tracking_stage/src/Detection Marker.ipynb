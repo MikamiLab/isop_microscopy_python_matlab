{
 "cells": [
  {
   "cell_type": "markdown",
   "metadata": {},
   "source": [
    "### Process to add detection marker and create video. by Hikaru Shishido ver1.00\n",
    " 明視野画像に追跡点を示した動画を作成する"
   ]
  },
  {
   "cell_type": "markdown",
   "metadata": {},
   "source": [
    "#### How to use \n",
    "- Change Folder path\n",
    "- Put the following four files in the Folder specified above.\n",
    "- ① rec.avi, ② log.csv, ③ parameter.txt\n",
    "\n",
    "#### 使用方法 \n",
    "- Folder pathを変更\n",
    "- 上記で指定のFolderに以下3つのファイルを入れた状態にする\n",
    "- ① rec.avi, ② log.csv, ③ parameter.txt"
   ]
  },
  {
   "cell_type": "code",
   "execution_count": 1,
   "metadata": {},
   "outputs": [],
   "source": [
    "folder_paths = [\n",
    "    # r\"E:\\_C.elegans\\FigX\\ana\\20240508-185610tdTomato-10mW-1good\",\n",
    "    r\"C:\\Users\\mlab-\\Desktop\\修論\\FigX\\ana\\20240516-203245tdTomato-7mW-3\"\n",
    "]"
   ]
  },
  {
   "cell_type": "code",
   "execution_count": 6,
   "metadata": {},
   "outputs": [
    {
     "name": "stdout",
     "output_type": "stream",
     "text": [
      "1 / 2: Finihed to read center position from parameter.txt\n",
      "2 / 2: Finihed to make video\n",
      "All process is finished\n"
     ]
    }
   ],
   "source": [
    "import sys, cv2, csv, winsound\n",
    "\n",
    "fps = 50\n",
    "size = (640, 480)\n",
    "\n",
    "for h in range(len(folder_paths)):\n",
    "    mathching_video_filename = \"rec detect \" + str(fps) + \" fps.avi\"\n",
    "\n",
    "    # video's path\n",
    "    video_path = folder_paths[h] + \"/\" + \"rec matching 50 fps.avi\"\n",
    "    # bright image csv file's path\n",
    "    log_bright_path = folder_paths[h] + \"/\" + \"log matching 50 fps.csv\"\n",
    "    # parameter txt file's path\n",
    "    txt_path = folder_paths[h] + \"/\" + \"parameter.txt\"\n",
    "    \n",
    "    ################################################\n",
    "    # read start_time from parameter txt file \"parameter.txt\"\n",
    "    ################################################\n",
    "    with open(txt_path, 'r') as file:\n",
    "        lines = file.readlines()\n",
    "\n",
    "    txt_data = {}\n",
    "    for line in lines:\n",
    "        if line.startswith(\"center:\"):\n",
    "            center_str = line.split(':')[1].strip()\n",
    "            centerx, centery = map(int, center_str.strip('()').split(','))\n",
    "            break\n",
    "    \n",
    "    # print(f\"x: {centerx}, y: {centery}\")\n",
    "    print(\"1 / 2: Finihed to read center position from parameter.txt\")\n",
    "\n",
    "    ################################################\n",
    "    # make video which added detection circle\n",
    "    ################################################\n",
    "    \n",
    "    with open(log_bright_path, \"r\", encoding=\"shift_jis\") as csv_bright:\n",
    "        csvR_bright = csv.reader(csv_bright)\n",
    "        header = next(csvR_bright)\n",
    "        \n",
    "        # 画像処理・動画保存\n",
    "        cap = cv2.VideoCapture(video_path)\n",
    "        if not cap.isOpened():\n",
    "            print(\"failed to open video\")\n",
    "            sys.exit()\n",
    "        \n",
    "        is_image, img = cap.read()\n",
    "        fourcc = cv2.VideoWriter_fourcc(*'MJPG')\n",
    "        # writer = cv2.VideoWriter(folder_paths[h]+\"/\"+mathching_video_filename, fourcc, fps, (img.shape[1], img.shape[0]))\n",
    "        writer = cv2.VideoWriter(folder_paths[h]+\"/\"+mathching_video_filename, fourcc, fps, size)\n",
    "    \n",
    "        n = 0\n",
    "        for row in csvR_bright:\n",
    "            \n",
    "            if is_image:\n",
    "                detection_x = int(row[7])\n",
    "                detection_y = int(row[8])\n",
    "                radius = int(row[18])\n",
    "                asobi = int(row[19])\n",
    "                # print(f\"frame: {n}, x: {detection_x}, y: {detection_y}, radius: {radius}, asobi: {asobi}\")\n",
    "                \n",
    "                img = cv2.circle(img, (detection_x, detection_y), radius*2, (255, 0, 255))\n",
    "                img = cv2.circle(img, (detection_x, detection_y), asobi*2, (0, 255, 255))\n",
    "                img = cv2.drawMarker(img, (detection_x, detection_y), (0, 255, 125))\n",
    "                img = cv2.drawMarker(img, position=(centerx, centery), color=(255, 255, 0), markerType=cv2.MARKER_TILTED_CROSS, markerSize=10)\n",
    "                \n",
    "                writer.write(img)\n",
    "                \n",
    "            else:\n",
    "                cap.release()\n",
    "                writer.release()\n",
    "                print(\"video-detect finished\")\n",
    "                break\n",
    "\n",
    "            is_image, img = cap.read()\n",
    "            n += 1\n",
    "    \n",
    "    cap.release()\n",
    "    writer.release()\n",
    "    print(\"2 / 2: Finihed to make video\")\n",
    "\n",
    "print(\"All process is finished\")\n",
    "winsound.Beep(1000, 200)"
   ]
  }
 ],
 "metadata": {
  "kernelspec": {
   "display_name": ".venv",
   "language": "python",
   "name": "python3"
  },
  "language_info": {
   "codemirror_mode": {
    "name": "ipython",
    "version": 3
   },
   "file_extension": ".py",
   "mimetype": "text/x-python",
   "name": "python",
   "nbconvert_exporter": "python",
   "pygments_lexer": "ipython3",
   "version": "3.7.9"
  }
 },
 "nbformat": 4,
 "nbformat_minor": 2
}
