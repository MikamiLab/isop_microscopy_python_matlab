{
 "cells": [
  {
   "cell_type": "code",
   "execution_count": 1,
   "metadata": {},
   "outputs": [],
   "source": [
    "folder_paths = [\n",
    "    r\"C:\\Users\\mlab-\\Desktop\\修論\\FigX\\ana\\20240508-174849tdTomato-12mW-3\",\n",
    "    r\"C:\\Users\\mlab-\\Desktop\\修論\\FigX\\ana\\20240508-185610tdTomato-10mW-1good\",\n",
    "    r\"C:\\Users\\mlab-\\Desktop\\修論\\FigX\\ana\\20240508-200229tdTomato-10mW-4\",\n",
    "    r\"C:\\Users\\mlab-\\Desktop\\修論\\FigX\\ana\\20240516-203245tdTomato-7mW-3\",\n",
    "]"
   ]
  },
  {
   "cell_type": "code",
   "execution_count": null,
   "metadata": {},
   "outputs": [],
   "source": [
    "import matplotlib.pyplot as plt"
   ]
  },
  {
   "cell_type": "code",
   "execution_count": null,
   "metadata": {},
   "outputs": [
    {
     "ename": "ModuleNotFoundError",
     "evalue": "No module named 'matplotlib'",
     "output_type": "error",
     "traceback": [
      "\u001b[1;31m---------------------------------------------------------------------------\u001b[0m",
      "\u001b[1;31mModuleNotFoundError\u001b[0m                       Traceback (most recent call last)",
      "\u001b[1;32m~\\AppData\\Local\\Temp\\ipykernel_12336\\1563679539.py\u001b[0m in \u001b[0;36m<module>\u001b[1;34m\u001b[0m\n\u001b[0;32m      1\u001b[0m \u001b[1;32mimport\u001b[0m \u001b[0mpandas\u001b[0m \u001b[1;32mas\u001b[0m \u001b[0mpd\u001b[0m\u001b[1;33m\u001b[0m\u001b[1;33m\u001b[0m\u001b[0m\n\u001b[0;32m      2\u001b[0m \u001b[1;33m\u001b[0m\u001b[0m\n\u001b[1;32m----> 3\u001b[1;33m \u001b[1;32mimport\u001b[0m \u001b[0mmatplotlib\u001b[0m\u001b[1;33m.\u001b[0m\u001b[0mpyplot\u001b[0m \u001b[1;32mas\u001b[0m \u001b[0mplt\u001b[0m\u001b[1;33m\u001b[0m\u001b[1;33m\u001b[0m\u001b[0m\n\u001b[0m\u001b[0;32m      4\u001b[0m \u001b[1;33m\u001b[0m\u001b[0m\n\u001b[0;32m      5\u001b[0m \u001b[1;31m# Initialize lists to store combined data\u001b[0m\u001b[1;33m\u001b[0m\u001b[1;33m\u001b[0m\u001b[1;33m\u001b[0m\u001b[0m\n",
      "\u001b[1;31mModuleNotFoundError\u001b[0m: No module named 'matplotlib'"
     ]
    }
   ],
   "source": [
    "import pandas as pd\n",
    "\n",
    "\n",
    "# Initialize lists to store combined data\n",
    "combined_x = []\n",
    "combined_y = []\n",
    "\n",
    "# Loop through each folder path\n",
    "for folder in folder_paths:\n",
    "    csv_file = f\"{folder}/log matching 50fps.csv\"\n",
    "    csv_df = pd.read_csv(csv_file, header=0, encoding=\"shift-jis\")\n",
    "    \n",
    "    data_x = csv_df.iloc[:, 6]\n",
    "    data_y = csv_df.iloc[:, 15]\n",
    "    \n",
    "    combined_x.extend(data_x)\n",
    "    combined_y.extend(data_y)\n",
    "    \n",
    "    plt.figure()\n",
    "    plt.scatter(data_x, data_y, s=50, c=\"blue\", marker=\"D\", alpha=0.6)\n",
    "    plt.xlabel(\"Err [µm]\", fontsize=10)\n",
    "    plt.ylabel(\"Velocity [µm/s]\", fontsize=10)\n",
    "    plt.tick_params(labelsize=10)\n",
    "    plt.title(f\"Scatter plot for {folder}\")\n",
    "    plt.show()\n",
    "\n",
    "# Plot combined data\n",
    "plt.figure()\n",
    "plt.scatter(combined_x, combined_y, s=50, c=\"blue\", marker=\"D\", alpha=0.6)\n",
    "plt.xlabel(\"Err [µm]\", fontsize=10)\n",
    "plt.ylabel(\"Velocity [µm/s]\", fontsize=10)\n",
    "plt.tick_params(labelsize=10)\n",
    "plt.title(\"Combined Scatter plot\")\n",
    "plt.show()"
   ]
  }
 ],
 "metadata": {
  "kernelspec": {
   "display_name": ".venv",
   "language": "python",
   "name": "python3"
  },
  "language_info": {
   "codemirror_mode": {
    "name": "ipython",
    "version": 3
   },
   "file_extension": ".py",
   "mimetype": "text/x-python",
   "name": "python",
   "nbconvert_exporter": "python",
   "pygments_lexer": "ipython3",
   "version": "3.7.9"
  }
 },
 "nbformat": 4,
 "nbformat_minor": 2
}
